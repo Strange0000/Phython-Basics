{
 "cells": [
  {
   "cell_type": "markdown",
   "id": "4863a713-32dc-4717-9488-55875ad869b6",
   "metadata": {
    "jp-MarkdownHeadingCollapsed": true
   },
   "source": [
    "# for"
   ]
  },
  {
   "cell_type": "code",
   "execution_count": 7,
   "id": "fc860393-ca10-4e44-81a3-1da59142e0cb",
   "metadata": {},
   "outputs": [
    {
     "name": "stdout",
     "output_type": "stream",
     "text": [
      "0\n",
      "1\n",
      "2\n",
      "3\n",
      "4\n",
      "5\n",
      "6\n",
      "7\n",
      "8\n",
      "9\n",
      "10\n",
      "11\n",
      "12\n",
      "13\n",
      "14\n",
      "15\n",
      "16\n",
      "17\n",
      "18\n",
      "19\n",
      "20\n",
      "21\n",
      "22\n"
     ]
    }
   ],
   "source": [
    "for x in range(0,23)  :\n",
    " print(x)"
   ]
  },
  {
   "cell_type": "code",
   "execution_count": 8,
   "id": "64405000-0af0-431b-9204-a3bbed7ea618",
   "metadata": {},
   "outputs": [
    {
     "name": "stdin",
     "output_type": "stream",
     "text": [
      "Enter a number 5\n"
     ]
    },
    {
     "name": "stdout",
     "output_type": "stream",
     "text": [
      "The mutiflication table of  5\n",
      " 5 x 1 = 5 \n",
      " 5 x 2 = 10 \n",
      " 5 x 3 = 15 \n",
      " 5 x 4 = 20 \n",
      " 5 x 5 = 25 \n",
      " 5 x 6 = 30 \n",
      " 5 x 7 = 35 \n",
      " 5 x 8 = 40 \n",
      " 5 x 9 = 45 \n",
      " 5 x 10 = 50 \n"
     ]
    }
   ],
   "source": [
    "number=int(input(\"Enter a number\"))\n",
    "print(\"The mutiflication table of \",number)\n",
    "for i in range (1,11):\n",
    "    print(f\" {number} x {i} = {number*i} \")"
   ]
  },
  {
   "cell_type": "code",
   "execution_count": 23,
   "id": "7b19c493-e592-49ab-a840-4416a6f54f54",
   "metadata": {},
   "outputs": [
    {
     "name": "stdin",
     "output_type": "stream",
     "text": [
      "enter the number of items purchased 3\n",
      "Enter the price of the item  80\n",
      "Enter the price of the item  5\n",
      "Enter the price of the item  2\n"
     ]
    },
    {
     "name": "stdout",
     "output_type": "stream",
     "text": [
      "discount = 27.0\n",
      "Total bill =  60.0\n"
     ]
    }
   ],
   "source": [
    "num_items=int(input(\"enter the number of items purchased\"))\n",
    "total_price =0\n",
    "for i in range(num_items):\n",
    "    price = float(input(\"Enter the price of the item \"))\n",
    "    total_price = total_price + price\n",
    "    i=i+1\n",
    "if total_price >= 100 :\n",
    "    discount=0.1 *total_price\n",
    "elif 50<=total_price < 100:    \n",
    "    discout =0.5 *total_price\n",
    "else:\n",
    "    discount = 0\n",
    "    \n",
    "total_bill=total_price-discount\n",
    "print (\"discount =\",discount)\n",
    "print(\"Total bill = \",total_bill)\n",
    "    \n",
    "    \n",
    "    \n",
    "    "
   ]
  },
  {
   "cell_type": "code",
   "execution_count": 5,
   "id": "644bdbc3-07fb-4af1-86b1-7f109a4c4aa0",
   "metadata": {},
   "outputs": [],
   "source": [
    "EXAM_SCORES={85,92,78,90,88,95,82,79,87,91}\n",
    "def exam_statistics(EXAM_SCORES):\n",
    "    num_student=len(EXAM_SCORES)\n",
    "    average_score= sum(EXAM_SCORES)/num_student\n",
    "    highest_score = max(EXAM_SCORES)\n",
    "    lowest_score= min(EXAM_SCORES)\n",
    "    num_passed=0\n",
    "\n",
    "    for i in EXAM_SCORES:\n",
    "        if i >=80:\n",
    "            num_passed=num_passed+1\n",
    "\n",
    "    num_failed=num_student-num_passed\n",
    "    return average_score ,lowest_score,num_passed,num_failed,highest_score\n",
    "        "
   ]
  },
  {
   "cell_type": "code",
   "execution_count": 20,
   "id": "0cea6c32-fcaf-41b9-ad3c-ebab86c9e8ab",
   "metadata": {
    "scrolled": true
   },
   "outputs": [
    {
     "name": "stdout",
     "output_type": "stream",
     "text": [
      "the num of stuudents 8\n"
     ]
    }
   ],
   "source": [
    "EXAM_SCORES={85,92,78,90,88,95,82,79,87,91}\n",
    "\n",
    "average_score, highest_score, lowest_score, num_passed, num_failed = exam_statistics(EXAM_SCORES)\n",
    "print(\"the num of stuudents\",lowest_score)"
   ]
  },
  {
   "cell_type": "code",
   "execution_count": 15,
   "id": "9665ea1d-6956-49d3-9e3a-64a0113b8eac",
   "metadata": {},
   "outputs": [],
   "source": [
    "def grade_distribution(grade):\n",
    "    for i in grade :\n",
    "        if 90<= i<=100 :\n",
    "            print(\"you have a A grade\")\n",
    "        elif 80<=i<=89 :\n",
    "            print(\"you have a got grade B\")\n",
    "        elif 70<=i>=79:\n",
    "          print(\"you have a C grade\")\n",
    "        elif 60<=i>=69:\n",
    "            print(\"you have a got grade B\")\n",
    "        else:\n",
    "            print(\"you have E grade\")\n",
    "            return"
   ]
  },
  {
   "cell_type": "code",
   "execution_count": 16,
   "id": "05e09a71-9ab2-49e7-86ba-127335cada77",
   "metadata": {},
   "outputs": [
    {
     "name": "stdout",
     "output_type": "stream",
     "text": [
      "you have E grade\n"
     ]
    }
   ],
   "source": [
    "grade=[60,90,40,80,70,90,70,50]\n",
    "grade_distribution(grade)"
   ]
  },
  {
   "cell_type": "markdown",
   "id": "12572359-dc96-4f40-adf0-65a94c4242af",
   "metadata": {
    "jp-MarkdownHeadingCollapsed": true
   },
   "source": [
    "# guess game"
   ]
  },
  {
   "cell_type": "code",
   "execution_count": 33,
   "id": "027f4b55-f533-489f-8258-a1fcbe7b3b90",
   "metadata": {},
   "outputs": [],
   "source": [
    "import random\n",
    "\n",
    "def number_guess():\n",
    "    secret_number =random.randint(1,100)\n",
    "    print( secret_number)\n",
    "\n",
    "    print(\"welcome \")\n",
    "    print(\"Select the number between 1 to 100:\")\n",
    "    attemps=0\n",
    "    guess =None\n",
    "    while guess != secret_number:\n",
    "        guess=int(input(\"Enter your guess\"))\n",
    "        attemps=attemps+1\n",
    "\n",
    "        if guess < secret_number:\n",
    "            print(\"too loww try agaim:\")\n",
    "        elif guess > secret_number :\n",
    "            print(\"too high guess again :\")\n",
    "        else :\n",
    "            print (\"you won \")\n",
    "\n",
    "    print(\"attemps =\",attemps)\n",
    "    "
   ]
  },
  {
   "cell_type": "code",
   "execution_count": 34,
   "id": "ee800b0a-dba1-49c5-bd38-534424f572b4",
   "metadata": {},
   "outputs": [
    {
     "name": "stdout",
     "output_type": "stream",
     "text": [
      "24\n",
      "welcome \n",
      "Select the number between 1 to 100:\n"
     ]
    },
    {
     "name": "stdin",
     "output_type": "stream",
     "text": [
      "Enter your guess 45\n"
     ]
    },
    {
     "name": "stdout",
     "output_type": "stream",
     "text": [
      "too high guess again :\n"
     ]
    },
    {
     "name": "stdin",
     "output_type": "stream",
     "text": [
      "Enter your guess 24\n"
     ]
    },
    {
     "name": "stdout",
     "output_type": "stream",
     "text": [
      "you won \n",
      "attemps = 2\n"
     ]
    }
   ],
   "source": [
    "number_guess()"
   ]
  },
  {
   "cell_type": "markdown",
   "id": "6d690038-9753-4dd8-9759-fd4ce2b7c8ee",
   "metadata": {
    "jp-MarkdownHeadingCollapsed": true
   },
   "source": [
    "# function"
   ]
  },
  {
   "cell_type": "code",
   "execution_count": 5,
   "id": "504758a1-dde5-432f-8c8e-9345778ea44e",
   "metadata": {},
   "outputs": [
    {
     "name": "stdout",
     "output_type": "stream",
     "text": [
      "55\n"
     ]
    }
   ],
   "source": [
    "def n_sum(n):\n",
    "    sum=0\n",
    "    for i in range (1,n+1) :\n",
    "        sum=sum+(i*i)\n",
    "    return sum\n",
    "\n",
    "n = 5\n",
    "print(n_sum(n))"
   ]
  },
  {
   "cell_type": "code",
   "execution_count": 7,
   "id": "fc89447f-74b7-4430-b4da-30fd67deeb2b",
   "metadata": {},
   "outputs": [
    {
     "name": "stdout",
     "output_type": "stream",
     "text": [
      "55\n"
     ]
    }
   ],
   "source": [
    "n = 5\n",
    "print(n_sum(n))"
   ]
  },
  {
   "cell_type": "code",
   "execution_count": null,
   "id": "c7354dd0-7359-407f-b748-8caee40c0c86",
   "metadata": {},
   "outputs": [],
   "source": [
    "\n"
   ]
  },
  {
   "cell_type": "code",
   "execution_count": null,
   "id": "c5131215-f59e-4ca9-98a2-7b2aa52717bd",
   "metadata": {},
   "outputs": [],
   "source": []
  },
  {
   "cell_type": "markdown",
   "id": "835cebee-2ea7-4a7d-9cf7-b611691db01e",
   "metadata": {},
   "source": [
    "# string"
   ]
  },
  {
   "cell_type": "code",
   "execution_count": 28,
   "id": "ebce98e8-8713-4774-a9fd-129f9315c515",
   "metadata": {},
   "outputs": [
    {
     "name": "stdout",
     "output_type": "stream",
     "text": [
      "sumit\n",
      "<class 'str'>\n"
     ]
    }
   ],
   "source": [
    "a=\"sumit\"\n",
    "print(a)\n",
    "print(type(a))"
   ]
  },
  {
   "cell_type": "markdown",
   "id": "f5526746-66c9-4da0-a02d-b270da00b1d7",
   "metadata": {},
   "source": [
    "## mutliline string"
   ]
  },
  {
   "cell_type": "code",
   "execution_count": 30,
   "id": "95908457-5a3e-4471-a0c7-16af3fc2025d",
   "metadata": {},
   "outputs": [
    {
     "name": "stdout",
     "output_type": "stream",
     "text": [
      "nninidneone\n",
      "kniononif\n",
      "ninonoinef\n",
      "kmomm\n",
      "ompmpompw\n",
      "m,,moo,kppppkpkpkp\n",
      "lomomsmposm\n"
     ]
    }
   ],
   "source": [
    "a=\"\"\"nninidneone\n",
    "kniononif\n",
    "ninonoinef\n",
    "kmomm\n",
    "ompmpompw\n",
    "m,,moo,kppppkpkpkp\n",
    "lomomsmposm\"\"\"\n",
    "print(a)"
   ]
  },
  {
   "cell_type": "markdown",
   "id": "a2b372dd-b0e7-41af-98b0-8b7b37ebf406",
   "metadata": {},
   "source": [
    "## indexing of strings"
   ]
  },
  {
   "cell_type": "code",
   "execution_count": 34,
   "id": "6c401bd8-6ea1-4a36-b2cc-fa11e8a9b2af",
   "metadata": {},
   "outputs": [
    {
     "name": "stdout",
     "output_type": "stream",
     "text": [
      "h\n",
      "e\n",
      "l\n",
      "s\n",
      "r\n"
     ]
    }
   ],
   "source": [
    "a=\"hello dear learners\"\n",
    "print(a[0])\n",
    "print(a[1])\n",
    "print(a[3])\n",
    "print(a[-1])\n",
    "print(a[-2])"
   ]
  },
  {
   "cell_type": "code",
   "execution_count": 35,
   "id": "c9b99197-8649-45f4-908d-ebef4603f701",
   "metadata": {},
   "outputs": [
    {
     "name": "stdout",
     "output_type": "stream",
     "text": [
      "a t d\n"
     ]
    }
   ],
   "source": [
    "b=\"data sc is growing field\"\n",
    "print(b[1],b[2],b[-1])"
   ]
  },
  {
   "cell_type": "markdown",
   "id": "b61d5061-7635-4ebf-a1ed-9a09490a7976",
   "metadata": {
    "jp-MarkdownHeadingCollapsed": true
   },
   "source": [
    "## SLICING"
   ]
  },
  {
   "cell_type": "code",
   "execution_count": 36,
   "id": "a7cb3004-849f-491a-835e-ae1141b50db3",
   "metadata": {},
   "outputs": [
    {
     "name": "stdout",
     "output_type": "stream",
     "text": [
      "i am\n"
     ]
    }
   ],
   "source": [
    "a=\"i am learning data sc\"\n",
    "print(a[0:4])"
   ]
  },
  {
   "cell_type": "code",
   "execution_count": 37,
   "id": "22ec95a2-d0c7-4bdd-8bff-05ae7f96f531",
   "metadata": {},
   "outputs": [
    {
     "name": "stdout",
     "output_type": "stream",
     "text": [
      "i am lea\n"
     ]
    }
   ],
   "source": [
    "a=\"i am learning data sc\"\n",
    "print(a[0:8])"
   ]
  },
  {
   "cell_type": "code",
   "execution_count": 38,
   "id": "6697f0d1-9d8e-46de-a81d-ddddd37d626d",
   "metadata": {},
   "outputs": [
    {
     "name": "stdout",
     "output_type": "stream",
     "text": [
      "i am learning data science\n"
     ]
    }
   ],
   "source": [
    "a=\"i am learning data science\"\n",
    "print(a[:])"
   ]
  },
  {
   "cell_type": "markdown",
   "id": "0ec7782a-69a4-4e13-abf8-390f5af360e9",
   "metadata": {},
   "source": [
    "## slicing with jump"
   ]
  },
  {
   "cell_type": "code",
   "execution_count": 39,
   "id": "5f270359-228a-4003-ba8e-3551b74893b0",
   "metadata": {},
   "outputs": [
    {
     "name": "stdout",
     "output_type": "stream",
     "text": [
      "ia er\n"
     ]
    }
   ],
   "source": [
    "a=\"i am learning data sc\"\n",
    "print(a[0:10:2])"
   ]
  },
  {
   "cell_type": "code",
   "execution_count": 40,
   "id": "24b42f5d-c01b-4509-9733-5e59c048f177",
   "metadata": {},
   "outputs": [
    {
     "name": "stdout",
     "output_type": "stream",
     "text": [
      "imen\n"
     ]
    }
   ],
   "source": [
    "a=\"i am learning data sc\"\n",
    "print(a[0:10:3])"
   ]
  },
  {
   "cell_type": "code",
   "execution_count": 41,
   "id": "359287e7-6b48-4ee9-8111-228866f93a6c",
   "metadata": {},
   "outputs": [
    {
     "name": "stdout",
     "output_type": "stream",
     "text": [
      "imenga \n"
     ]
    }
   ],
   "source": [
    "a=\"i am learning data sc\"\n",
    "print(a[::3])"
   ]
  },
  {
   "cell_type": "markdown",
   "id": "1a69eedb-ce9b-46a4-b2ef-6053cc45016a",
   "metadata": {},
   "source": [
    "## negative sclicing"
   ]
  },
  {
   "cell_type": "code",
   "execution_count": 47,
   "id": "e87f8588-2c5e-4b98-9fdb-295ecded0f08",
   "metadata": {},
   "outputs": [
    {
     "name": "stdout",
     "output_type": "stream",
     "text": [
      "scienc\n"
     ]
    }
   ],
   "source": [
    "a=\"i am learning data science\"\n",
    "print(a[-7:-1])"
   ]
  },
  {
   "cell_type": "code",
   "execution_count": 48,
   "id": "628955ea-14d4-4ddb-9f59-97b5acd66974",
   "metadata": {},
   "outputs": [
    {
     "name": "stdout",
     "output_type": "stream",
     "text": [
      "ing data scienc\n"
     ]
    }
   ],
   "source": [
    "a=\"i am learning data science\"\n",
    "print(a[-16:-1])"
   ]
  },
  {
   "cell_type": "code",
   "execution_count": 50,
   "id": "52905ccd-a049-4ef4-9e8b-e6b8dd8e7c1d",
   "metadata": {},
   "outputs": [
    {
     "name": "stdout",
     "output_type": "stream",
     "text": [
      "lann aas\n"
     ]
    }
   ],
   "source": [
    "a=\"i am learning data sc\"\n",
    "print(a[-16:-1:2])"
   ]
  },
  {
   "cell_type": "code",
   "execution_count": 52,
   "id": "103e64b5-4543-4edc-a83d-80f5834d54a2",
   "metadata": {},
   "outputs": [],
   "source": [
    "def extract_data(date_string):\n",
    "    year=int(date_string[0:4])\n",
    "    month=int(date_string[5:7])\n",
    "    day=int(date_string[8:])\n",
    "    return (year, month, day)\n",
    "    "
   ]
  },
  {
   "cell_type": "code",
   "execution_count": 53,
   "id": "300eb0a2-3a34-4e17-90f4-cae73599fb21",
   "metadata": {},
   "outputs": [
    {
     "data": {
      "text/plain": [
       "(2024, 5, 28)"
      ]
     },
     "execution_count": 53,
     "metadata": {},
     "output_type": "execute_result"
    }
   ],
   "source": [
    "extract_data(\"2024-05-28\")"
   ]
  },
  {
   "cell_type": "markdown",
   "id": "224f3a39-86e4-46d1-9349-e711506d98a8",
   "metadata": {},
   "source": [
    "## reverse a string"
   ]
  },
  {
   "cell_type": "code",
   "execution_count": 75,
   "id": "1fcf3493-3cdd-4b37-a600-d05e9fcf780f",
   "metadata": {},
   "outputs": [
    {
     "name": "stdout",
     "output_type": "stream",
     "text": [
      "ycilop tseb eht si ytsenoh\n",
      "[5, 545, 4544, 655, 4, 25, 1]\n"
     ]
    }
   ],
   "source": [
    "s=\"honesty is the best policy\"\n",
    "print(s[::-1])\n",
    "print(a)"
   ]
  },
  {
   "cell_type": "code",
   "execution_count": 56,
   "id": "9916e2c8-b90d-40f8-bbc8-7cf6199280a6",
   "metadata": {},
   "outputs": [
    {
     "name": "stdout",
     "output_type": "stream",
     "text": [
      "a scie\n"
     ]
    }
   ],
   "source": [
    "a=\"data science\"\n",
    "print(a[3:9])"
   ]
  },
  {
   "cell_type": "markdown",
   "id": "be2563b2-bfaa-42ed-9a72-843cb32e1477",
   "metadata": {
    "jp-MarkdownHeadingCollapsed": true
   },
   "source": [
    "# Strings part 2\n"
   ]
  },
  {
   "cell_type": "code",
   "execution_count": 2,
   "id": "8ac37012-463b-44b6-b783-e46441974f53",
   "metadata": {},
   "outputs": [
    {
     "name": "stdout",
     "output_type": "stream",
     "text": [
      "10\n"
     ]
    }
   ],
   "source": [
    "s=\"the iscale\"\n",
    "print(len(s))"
   ]
  },
  {
   "cell_type": "code",
   "execution_count": 3,
   "id": "ac6e2e0e-2b93-4ab4-82b0-af2f2d165f32",
   "metadata": {},
   "outputs": [
    {
     "name": "stdout",
     "output_type": "stream",
     "text": [
      "0\n"
     ]
    }
   ],
   "source": [
    "s=\"\"\n",
    "print(len(s))"
   ]
  },
  {
   "cell_type": "code",
   "execution_count": 4,
   "id": "b47277f7-62cc-43db-8228-6fe77e989f0b",
   "metadata": {},
   "outputs": [
    {
     "name": "stdout",
     "output_type": "stream",
     "text": [
      "1\n"
     ]
    }
   ],
   "source": [
    "s=\" \"\n",
    "print(len(s))"
   ]
  },
  {
   "cell_type": "markdown",
   "id": "ed7d34fb-5f34-4279-80f7-9396e422142e",
   "metadata": {},
   "source": [
    "## string with special symvbol"
   ]
  },
  {
   "cell_type": "code",
   "execution_count": 6,
   "id": "614c3e74-4d2d-4c21-bc8a-445ce39bdb5f",
   "metadata": {},
   "outputs": [
    {
     "name": "stdout",
     "output_type": "stream",
     "text": [
      "hello\n",
      "world\n",
      "11\n"
     ]
    }
   ],
   "source": [
    "s=\"hello\\nworld\"\n",
    "print(s)\n",
    "print(len(s))\n"
   ]
  },
  {
   "cell_type": "code",
   "execution_count": 7,
   "id": "849c949c-e65e-4c55-83d8-c72960144ca2",
   "metadata": {},
   "outputs": [
    {
     "name": "stdout",
     "output_type": "stream",
     "text": [
      "hello@world\n",
      "11\n"
     ]
    }
   ],
   "source": [
    "s=\"hello@world\"\n",
    "print(s)\n",
    "print(len(s))"
   ]
  },
  {
   "cell_type": "code",
   "execution_count": 8,
   "id": "2a96fe0e-379c-46ba-991a-95cc42656bcb",
   "metadata": {},
   "outputs": [
    {
     "name": "stdout",
     "output_type": "stream",
     "text": [
      "hello\n",
      "world\n",
      "11\n"
     ]
    }
   ],
   "source": [
    "s=\"\"\"hello\n",
    "world\"\"\"\n",
    "print(s)\n",
    "print(len(s))"
   ]
  },
  {
   "cell_type": "code",
   "execution_count": 11,
   "id": "e6a193e1-b173-458c-bc35-18d1adfbce25",
   "metadata": {},
   "outputs": [
    {
     "name": "stdout",
     "output_type": "stream",
     "text": [
      "450\n"
     ]
    }
   ],
   "source": [
    "a=\"Data science also integrates domain knowledge from the underlying application domain (e.g., natural sciences, information technology, and medicine).[3] Data science is multifaceted and can be described as a science, a research paradigm, a research method, a discipline, a workflow, and a profession.[4]Data science is a concept to unify statistics, data analysis, informatics, and their related methods to understand and analyze actual phenomena with\"\n",
    "print(len(a))"
   ]
  },
  {
   "cell_type": "markdown",
   "id": "4938f607-51b0-4d93-8cd9-f404be4adad8",
   "metadata": {},
   "source": [
    "## python modify string"
   ]
  },
  {
   "cell_type": "code",
   "execution_count": 13,
   "id": "60b979be-5bf0-4442-bbec-f0454d1c5619",
   "metadata": {
    "scrolled": true
   },
   "outputs": [
    {
     "name": "stdout",
     "output_type": "stream",
     "text": [
      "THIS IS A LUMD 123\n"
     ]
    }
   ],
   "source": [
    "s=\"this is a lumd 123\"\n",
    "print(s.upper())"
   ]
  },
  {
   "cell_type": "code",
   "execution_count": 14,
   "id": "7831e4c2-818c-4a95-ac28-e058105b42e6",
   "metadata": {},
   "outputs": [
    {
     "name": "stdout",
     "output_type": "stream",
     "text": [
      "this is a lumd 123\n"
     ]
    }
   ],
   "source": [
    "s=\"THIS IS A LUMD 123\"\n",
    "print(s.lower())"
   ]
  },
  {
   "cell_type": "code",
   "execution_count": 18,
   "id": "5d240b7b-cdc3-4c3c-b335-f9c827066075",
   "metadata": {},
   "outputs": [
    {
     "name": "stdout",
     "output_type": "stream",
     "text": [
      "this is a lumd 123\n"
     ]
    }
   ],
   "source": [
    "s=\"THIS IS A LUMD 123\"\n",
    "print(s.lower())"
   ]
  },
  {
   "cell_type": "markdown",
   "id": "97f4254c-5586-429e-beaa-0532bad09938",
   "metadata": {},
   "source": [
    "## string concantenation"
   ]
  },
  {
   "cell_type": "code",
   "execution_count": 19,
   "id": "5398cee4-aae3-44fb-9703-94242fec21d5",
   "metadata": {},
   "outputs": [
    {
     "name": "stdout",
     "output_type": "stream",
     "text": [
      "hello world\n"
     ]
    }
   ],
   "source": [
    "a=\"hello\"\n",
    "b=\"world\"\n",
    "print(a+\" \"+b)"
   ]
  },
  {
   "cell_type": "code",
   "execution_count": 23,
   "id": "22f9f0b1-1841-4a88-81b5-a4d3cd888cb4",
   "metadata": {},
   "outputs": [
    {
     "name": "stdout",
     "output_type": "stream",
     "text": [
      "hellohellohellohellohello\n"
     ]
    }
   ],
   "source": [
    "a=\"hello\"\n",
    "print(a*5)"
   ]
  },
  {
   "cell_type": "markdown",
   "id": "c793b025-ed3a-426f-92d9-03961eedbab3",
   "metadata": {},
   "source": [
    "## replace method"
   ]
  },
  {
   "cell_type": "code",
   "execution_count": 25,
   "id": "e3afccb9-e56a-4232-a593-f434d3d6349c",
   "metadata": {},
   "outputs": [
    {
     "name": "stdout",
     "output_type": "stream",
     "text": [
      "helllo world i am learning data science\n"
     ]
    }
   ],
   "source": [
    "text=\"helllo world i am learning python\"\n",
    "rep=text.replace(\"python\",\"data science\")\n",
    "print(rep)"
   ]
  },
  {
   "cell_type": "code",
   "execution_count": 73,
   "id": "d20ba7e7-b089-482e-a97c-298e65c0f1f0",
   "metadata": {},
   "outputs": [
    {
     "name": "stdout",
     "output_type": "stream",
     "text": [
      "Statistics (from German: Statistik, orig. \"description of a state, a country\"[1]) is the discipline that concerns the collection, organization, analysis, interpretation, and presentation of data.[2] In applying statistics to a scientific, industrial, or social problem, it is conventional to begin with a statistical population or a statistical model to be studied. Populations can be diverse groups of people or objects such as \"all people living in a country\" or \"every atom composing a crystal\". Statistics deals with every aspect of data, including the planning of\n",
      "\n",
      " Statistics (strange German: Statistik, orig. \"description of a state, a country\"[1]) is the discipline that concerns the collection, organization, analysis, interpretation, and presentation of data.[2] In applying statistics to a scientific, industrial, or social problem, it is conventional to begin with a statistical population or a statistical model to be studied. Populations can be diverse groups of people or objects such as \"all people living in a country\" or \"every atom composing a crystal\". Statistics deals with every aspect of data, including the planning of\n"
     ]
    }
   ],
   "source": [
    "s=\"\"\"Statistics (from German: Statistik, orig. \"description of a state, a country\"[1]) is the discipline that concerns the collection, organization, analysis, interpretation, and presentation of data.[2] In applying statistics to a scientific, industrial, or social problem, it is conventional to begin with a statistical population or a statistical model to be studied. Populations can be diverse groups of people or objects such as \"all people living in a country\" or \"every atom composing a crystal\". Statistics deals with every aspect of data, including the planning of\"\"\"\n",
    "p=s.replace(\"from\",\"strange\")\n",
    "print(s)\n",
    "print(\"\\n\",p)"
   ]
  },
  {
   "cell_type": "markdown",
   "id": "f3b58059-4af6-42e7-94a0-fce1d5adfd19",
   "metadata": {},
   "source": [
    "## index method"
   ]
  },
  {
   "cell_type": "code",
   "execution_count": 33,
   "id": "e87ccfb5-463a-4166-b0d2-2ace6bc306a4",
   "metadata": {},
   "outputs": [
    {
     "name": "stdout",
     "output_type": "stream",
     "text": [
      "7\n"
     ]
    }
   ],
   "source": [
    "s=\"i want to learn\"\n",
    "print(s.index(\"to\"))"
   ]
  },
  {
   "cell_type": "code",
   "execution_count": 42,
   "id": "2248b7b1-e00d-4e8a-830f-d0bbf08fa933",
   "metadata": {},
   "outputs": [
    {
     "name": "stdout",
     "output_type": "stream",
     "text": [
      "4\n"
     ]
    }
   ],
   "source": [
    "s= \"\"\"Two main statistical methods are used in data analysis: descriptive statistics, which summarize data from a sample using indexes such as the mean or standard deviation, and inferential statistics, which draw conclusions from data that are subject to random variation (e.g., observational errors, sampling variation).[4] Descriptive statistics are most often concerned with two sets of properties of a distribution (sample or population): central tendency (or location) seeks to\"\"\"\n",
    "a=s.index(\"main\")\n",
    "print(a)"
   ]
  },
  {
   "cell_type": "markdown",
   "id": "1565442d-cb8a-49b5-bc9c-3ea965e90e24",
   "metadata": {},
   "source": [
    "## find methid"
   ]
  },
  {
   "cell_type": "code",
   "execution_count": 43,
   "id": "104de180-b3b4-48fa-a209-f67366346637",
   "metadata": {},
   "outputs": [
    {
     "name": "stdout",
     "output_type": "stream",
     "text": [
      "10\n"
     ]
    }
   ],
   "source": [
    "a=\"python is great\"\n",
    "b=a.find(\"gr\")\n",
    "print(b)"
   ]
  },
  {
   "cell_type": "code",
   "execution_count": 56,
   "id": "ca95f867-8176-4d12-9f9b-5cb64b3c780f",
   "metadata": {},
   "outputs": [
    {
     "name": "stdout",
     "output_type": "stream",
     "text": [
      "hello world\n",
      "11\n",
      "world\n",
      "dlrow\n",
      "DLROW\n",
      "DxROW\n"
     ]
    }
   ],
   "source": [
    "a=\"hello\"\n",
    "b=\"world\"\n",
    "concantenated_string=a+\" \" +b\n",
    "lenghth=len(concantenated_string)\n",
    "substring=concantenated_string[6:]\n",
    "reverse=substring[::-1]\n",
    "uppercase=reverse.upper()\n",
    "replace=uppercase.replace(\"L\",\"x\")\n",
    "print(concantenated_string)\n",
    "print(lenghth)\n",
    "print(substring)\n",
    "print(reverse)\n",
    "print(uppercase)\n",
    "print(replace)\n",
    "\n"
   ]
  },
  {
   "cell_type": "markdown",
   "id": "661a207c-6a7e-40e5-a5ed-f0fd58841695",
   "metadata": {
    "jp-MarkdownHeadingCollapsed": true
   },
   "source": [
    "# list part 1"
   ]
  },
  {
   "cell_type": "code",
   "execution_count": 57,
   "id": "c5793d52-bfcd-40f6-974b-ffbfa17a3a64",
   "metadata": {},
   "outputs": [
    {
     "name": "stdout",
     "output_type": "stream",
     "text": [
      "['a', 'b', 'c']\n",
      "<class 'list'>\n"
     ]
    }
   ],
   "source": [
    "mylist=[\"a\",\"b\",\"c\"]\n",
    "print(mylist)\n",
    "print(type(mylist))"
   ]
  },
  {
   "cell_type": "markdown",
   "id": "8ef59c8a-5524-42b5-8d45-68b2e8873d4c",
   "metadata": {},
   "source": [
    "## property of list"
   ]
  },
  {
   "cell_type": "markdown",
   "id": "d7723da7-0793-4eb1-8152-f77e1048a3ad",
   "metadata": {},
   "source": [
    "### ordered"
   ]
  },
  {
   "cell_type": "code",
   "execution_count": 58,
   "id": "ea955414-351b-47e0-a79f-867045b84fe8",
   "metadata": {},
   "outputs": [
    {
     "name": "stdout",
     "output_type": "stream",
     "text": [
      "oranage\n"
     ]
    }
   ],
   "source": [
    "fruits =[\"mango \",\"oranage\",\"cherry\"]\n",
    "print(fruits[1])"
   ]
  },
  {
   "cell_type": "markdown",
   "id": "a0579c59-fb67-4b44-a06b-67876970d99b",
   "metadata": {},
   "source": [
    "### hetrogenous"
   ]
  },
  {
   "cell_type": "code",
   "execution_count": 59,
   "id": "4eea683f-33c2-44eb-80dc-e50c7a4f38ee",
   "metadata": {},
   "outputs": [
    {
     "name": "stdout",
     "output_type": "stream",
     "text": [
      "[1, '1', 3.14, [1, 2, 3, 4]]\n"
     ]
    }
   ],
   "source": [
    "mixed_list=[ 1,\"1\",3.14,[1,2,3,4]]\n",
    "print(mixed_list)"
   ]
  },
  {
   "cell_type": "markdown",
   "id": "bb2ccd53-3c20-464d-a102-059de2b8d27d",
   "metadata": {},
   "source": [
    "### list items -data type"
   ]
  },
  {
   "cell_type": "code",
   "execution_count": null,
   "id": "e9294717-01c8-4b1e-8214-ca740fe7b0d0",
   "metadata": {},
   "outputs": [],
   "source": [
    "l=[\"apple\",\"banana\"]\n",
    "v=[2,3,4,5]\n",
    "c=[True,False]"
   ]
  },
  {
   "cell_type": "markdown",
   "id": "141dab36-0ca6-4d21-b691-e325e3325601",
   "metadata": {},
   "source": [
    "## indexed"
   ]
  },
  {
   "cell_type": "code",
   "execution_count": 63,
   "id": "691adcae-748d-4de8-8c36-362a74a96db3",
   "metadata": {},
   "outputs": [
    {
     "name": "stdout",
     "output_type": "stream",
     "text": [
      "birds\n"
     ]
    }
   ],
   "source": [
    "animals=[\"dog\",\"cat\",\"birds\"]\n",
    "print(animals[2])"
   ]
  },
  {
   "cell_type": "markdown",
   "id": "3cbcc7b9-c743-4e8f-9d8c-5d45ebf2f13a",
   "metadata": {},
   "source": [
    "## slicing"
   ]
  },
  {
   "cell_type": "markdown",
   "id": "e2bd5b47-9e08-4f30-9708-cce4030c4310",
   "metadata": {},
   "source": [
    "### basic slicing"
   ]
  },
  {
   "cell_type": "code",
   "execution_count": 62,
   "id": "9b43eb48-4094-4269-9639-6c222a73e50f",
   "metadata": {},
   "outputs": [
    {
     "name": "stdout",
     "output_type": "stream",
     "text": [
      "[10, 11, 12, 13]\n"
     ]
    }
   ],
   "source": [
    "numbers=[10,11,12,13,14,15,16]\n",
    "print(numbers[0:4])"
   ]
  },
  {
   "cell_type": "markdown",
   "id": "1e38d22e-72f8-4c3b-bc91-cc5e54cfd5b4",
   "metadata": {},
   "source": [
    "### omiting slicing"
   ]
  },
  {
   "cell_type": "code",
   "execution_count": 64,
   "id": "8b7f1409-a7e2-4fd0-93dd-5b6796ea57f6",
   "metadata": {},
   "outputs": [
    {
     "name": "stdout",
     "output_type": "stream",
     "text": [
      "[10, 11, 12, 13]\n"
     ]
    }
   ],
   "source": [
    "numbers=[10,11,12,13,14,15,16]\n",
    "print(numbers[:4])"
   ]
  },
  {
   "cell_type": "code",
   "execution_count": 65,
   "id": "4018f759-7c95-4906-9210-b9a57093ca35",
   "metadata": {},
   "outputs": [
    {
     "name": "stdout",
     "output_type": "stream",
     "text": [
      "[10, 11, 12, 13, 14, 15, 16]\n"
     ]
    }
   ],
   "source": [
    "numbers=[10,11,12,13,14,15,16]\n",
    "print(numbers[:])"
   ]
  },
  {
   "cell_type": "code",
   "execution_count": 66,
   "id": "176f46a5-8fa5-429b-be7c-7be526a57460",
   "metadata": {},
   "outputs": [
    {
     "name": "stdout",
     "output_type": "stream",
     "text": [
      "[10, 12]\n"
     ]
    }
   ],
   "source": [
    "numbers=[10,11,12,13,14,15,16]\n",
    "print(numbers[0:4:2])"
   ]
  },
  {
   "cell_type": "markdown",
   "id": "55dcd935-4521-4a71-b8eb-4451d625ad5a",
   "metadata": {},
   "source": [
    "## negative indexing"
   ]
  },
  {
   "cell_type": "code",
   "execution_count": 68,
   "id": "8b0de6d2-3436-4f33-b5cb-e9d6a859cdd9",
   "metadata": {},
   "outputs": [
    {
     "name": "stdout",
     "output_type": "stream",
     "text": [
      "[12, 13, 14, 15, 16]\n"
     ]
    }
   ],
   "source": [
    "numbers=[10,11,12,13,14,15,16]\n",
    "print(numbers[-5:])"
   ]
  },
  {
   "cell_type": "markdown",
   "id": "e07b8239-b47a-4eb6-98cb-4915392aeeb7",
   "metadata": {},
   "source": [
    "## indexing with step//Jump"
   ]
  },
  {
   "cell_type": "code",
   "execution_count": 69,
   "id": "a934f5e2-03b3-4393-a863-00062afa0875",
   "metadata": {},
   "outputs": [
    {
     "name": "stdout",
     "output_type": "stream",
     "text": [
      "[10, 13, 16]\n"
     ]
    }
   ],
   "source": [
    "numbers=[10,11,12,13,14,15,16]\n",
    "print(numbers[::3])"
   ]
  },
  {
   "cell_type": "markdown",
   "id": "c984c8e5-4b0f-4c93-9f6b-5cea7c4a9d7c",
   "metadata": {
    "jp-MarkdownHeadingCollapsed": true
   },
   "source": [
    "# question list"
   ]
  },
  {
   "cell_type": "code",
   "execution_count": 72,
   "id": "d33f7f94-c57e-4f09-bb37-58f71db19742",
   "metadata": {},
   "outputs": [
    {
     "name": "stdout",
     "output_type": "stream",
     "text": [
      "[89, 76, 93, 72]\n"
     ]
    }
   ],
   "source": [
    "scores=[55,89,76,65,93,50,72]\n",
    "high_scores=[]\n",
    "for score in scores:\n",
    "    if score > 70:\n",
    "        high_scores.append(score)\n",
    "    else:\n",
    "        pass\n",
    "\n",
    "print(high_scores)\n",
    "    "
   ]
  },
  {
   "cell_type": "code",
   "execution_count": 75,
   "id": "19e4078b-57c4-4fc2-87a0-0f8a1d818e81",
   "metadata": {},
   "outputs": [
    {
     "name": "stdout",
     "output_type": "stream",
     "text": [
      "15\n"
     ]
    }
   ],
   "source": [
    "data=[1,2,3,4,5,6,7,8,9,10]\n",
    "total=0\n",
    "for i in range(0,6):\n",
    "    total=total+i\n",
    "\n",
    "print(total)"
   ]
  },
  {
   "cell_type": "code",
   "execution_count": 78,
   "id": "fcfd090f-bf12-491a-bd2a-546173b901a4",
   "metadata": {},
   "outputs": [
    {
     "name": "stdout",
     "output_type": "stream",
     "text": [
      "15\n",
      "[10, 9, 8, 7, 6, 5, 4, 3, 2, 1]\n"
     ]
    }
   ],
   "source": [
    "data=[1,2,3,4,5,6,7,8,9,10]\n",
    "sum_first_five=sum(data[:5])\n",
    "print(sum_first_five)\n",
    "print(data[::-1])"
   ]
  },
  {
   "cell_type": "code",
   "execution_count": 88,
   "id": "848c6c6a-8356-4831-b076-8a1c820f8ae2",
   "metadata": {},
   "outputs": [
    {
     "name": "stdout",
     "output_type": "stream",
     "text": [
      "[6, 7, 8, 9, 10, 1, 2, 3, 4, 5]\n"
     ]
    }
   ],
   "source": [
    "numbers=[1,2,3,4,5,6,7,8,9,10]\n",
    "temp=0\n",
    "length=len(numbers)//2\n",
    "for i in range(length):\n",
    "    temp= numbers[i]\n",
    "    numbers[i]=numbers[length+ i]\n",
    "    numbers[length+i]=temp\n",
    "\n",
    "print(numbers)"
   ]
  },
  {
   "cell_type": "code",
   "execution_count": 83,
   "id": "7684dc2b-7bc8-4dcf-92fe-c518ed0fb831",
   "metadata": {},
   "outputs": [
    {
     "name": "stdout",
     "output_type": "stream",
     "text": [
      "The half swaped list is:[10, 9, 8, 7, 6, 5, 4, 3, 2, 1]\n",
      "The sum of the first 3 elements is:34\n"
     ]
    }
   ],
   "source": [
    "numbers = [1,2,3,4,5,6,7,8,9,10]\n",
    "length = len(numbers)//2\n",
    "temp = 0\n",
    "for i in range(length):\n",
    "    temp = numbers[i]\n",
    "    numbers[i] = numbers[len(numbers) - i - 1]\n",
    "    numbers[len(numbers) - i - 1] = temp\n",
    "sub_numbers = numbers[0:4]\n",
    "print(f\"The half swaped list is:{numbers}\")\n",
    "print(f\"The sum of the first 3 elements is:{sum(sub_numbers)}\")"
   ]
  },
  {
   "cell_type": "markdown",
   "id": "8aded418-e9c5-43d7-8bcd-07c0702885a7",
   "metadata": {
    "jp-MarkdownHeadingCollapsed": true
   },
   "source": [
    "# list part2"
   ]
  },
  {
   "cell_type": "markdown",
   "id": "6a92268f-b08a-448d-bd27-714b7fcce931",
   "metadata": {},
   "source": [
    "## len method"
   ]
  },
  {
   "cell_type": "code",
   "execution_count": 36,
   "id": "a840aaf1-3635-4819-888a-fd2afd2038ad",
   "metadata": {},
   "outputs": [
    {
     "name": "stdout",
     "output_type": "stream",
     "text": [
      "13\n"
     ]
    }
   ],
   "source": [
    "s=[1,5,4,7,9,8,7,5,45,4,5,\"hello\",5.3]\n",
    "print(len(s))"
   ]
  },
  {
   "cell_type": "markdown",
   "id": "f7593f19-80b5-48ec-b001-a3230bbbb5ec",
   "metadata": {},
   "source": [
    "## mutability property of list"
   ]
  },
  {
   "cell_type": "markdown",
   "id": "e40ae630-9560-4837-89dc-ded739c9053f",
   "metadata": {},
   "source": [
    "### changing elements"
   ]
  },
  {
   "cell_type": "code",
   "execution_count": 38,
   "id": "7e833af1-af21-42d3-987d-87ca084eac94",
   "metadata": {},
   "outputs": [
    {
     "name": "stdout",
     "output_type": "stream",
     "text": [
      "[1, 2, 10, 4, 5]\n"
     ]
    }
   ],
   "source": [
    "my_list=[1,2,3,4,5,]\n",
    "my_list[2]=10\n",
    "print(my_list)\n"
   ]
  },
  {
   "cell_type": "code",
   "execution_count": 39,
   "id": "08932224-c4d2-4aa1-8f77-48e85fdf1af9",
   "metadata": {},
   "outputs": [
    {
     "name": "stdout",
     "output_type": "stream",
     "text": [
      "[1, 2, 'hello', 4, 5]\n"
     ]
    }
   ],
   "source": [
    "my_list=[1,2,3,4,5,]\n",
    "my_list[2]=\"hello\"\n",
    "print(my_list)"
   ]
  },
  {
   "cell_type": "markdown",
   "id": "58f7abcb-5834-4857-88ba-dc8859eccf20",
   "metadata": {},
   "source": [
    "### change a range of item values"
   ]
  },
  {
   "cell_type": "code",
   "execution_count": 40,
   "id": "f61143de-1fed-43b2-9370-f9c5fa921527",
   "metadata": {},
   "outputs": [
    {
     "name": "stdout",
     "output_type": "stream",
     "text": [
      "[12, 13, 'books', 'pen', 'paper', 15, 16, 17, 1, 8, 1, 9, 20, 21]\n"
     ]
    }
   ],
   "source": [
    "a=[12,13,1,4,15,16,17,1,8,1,9,20,21]\n",
    "a[2:4]=[\"books\",\"pen\",\"paper\"]\n",
    "print(a)"
   ]
  },
  {
   "cell_type": "markdown",
   "id": "75ed1152-1084-4ec9-a7b7-85d37dcc607f",
   "metadata": {},
   "source": [
    "### add list item"
   ]
  },
  {
   "cell_type": "code",
   "execution_count": 43,
   "id": "590979e7-674d-4369-8506-3cda266b752e",
   "metadata": {},
   "outputs": [
    {
     "name": "stdout",
     "output_type": "stream",
     "text": [
      "['applke', 'banana', 'cheery', 'orange']\n"
     ]
    }
   ],
   "source": [
    "thislist=[\"applke\",\"banana\",\"cheery\"]\n",
    "thislist.append(\"orange\")\n",
    "print(thislist)"
   ]
  },
  {
   "cell_type": "code",
   "execution_count": 79,
   "id": "a36574b7-c42f-4feb-9d85-4d337372f597",
   "metadata": {},
   "outputs": [
    {
     "name": "stdout",
     "output_type": "stream",
     "text": [
      "['strawberry', 'applke', 'banana', 'cheery']\n"
     ]
    }
   ],
   "source": [
    "thislist=[\"applke\",\"banana\",\"cheery\"]\n",
    "thislist.insert(0,\"strawberry\")\n",
    "print(thislist)"
   ]
  },
  {
   "cell_type": "markdown",
   "id": "7eafac4b-2df9-42d7-b01d-f350dd6f6538",
   "metadata": {},
   "source": [
    "### remove the items"
   ]
  },
  {
   "cell_type": "code",
   "execution_count": 44,
   "id": "09b64e00-198c-478f-9b30-4d8ef1c08d25",
   "metadata": {},
   "outputs": [
    {
     "name": "stdout",
     "output_type": "stream",
     "text": [
      "[1, 2, 4, 7, 8, 455, 45, 454, 477]\n"
     ]
    }
   ],
   "source": [
    "a=[1,2,4,5,7,8,455,45,454,477]\n",
    "a.remove(5)\n",
    "print(a)"
   ]
  },
  {
   "cell_type": "markdown",
   "id": "596bf67b-b03a-485c-abff-359eaf03998f",
   "metadata": {},
   "source": [
    "### join the list"
   ]
  },
  {
   "cell_type": "code",
   "execution_count": 46,
   "id": "60112d55-cf11-4c0d-b35a-4716a575e758",
   "metadata": {},
   "outputs": [
    {
     "name": "stdout",
     "output_type": "stream",
     "text": [
      "[1, 2, 3, 4, 14, 15, 16, 14, 15, 16]\n"
     ]
    }
   ],
   "source": [
    "list1=[1,2,3,4]\n",
    "list2=[14,15,16]\n",
    "list3=[14,15,16]\n",
    "print(list1+list2+list3)"
   ]
  },
  {
   "cell_type": "markdown",
   "id": "4a8c9416-aa85-41d6-af1c-f6db2295fbeb",
   "metadata": {},
   "source": [
    "## check if the list contains an element"
   ]
  },
  {
   "cell_type": "code",
   "execution_count": 47,
   "id": "88091493-6270-4b9d-bb4d-5548036bab00",
   "metadata": {},
   "outputs": [
    {
     "data": {
      "text/plain": [
       "False"
      ]
     },
     "execution_count": 47,
     "metadata": {},
     "output_type": "execute_result"
    }
   ],
   "source": [
    "a=[25,24,26,24,25,\"hello\"]\n",
    "3 in a\n"
   ]
  },
  {
   "cell_type": "code",
   "execution_count": 48,
   "id": "2ea65a65-af3f-4750-ab0c-ae7a8372d844",
   "metadata": {},
   "outputs": [
    {
     "data": {
      "text/plain": [
       "True"
      ]
     },
     "execution_count": 48,
     "metadata": {},
     "output_type": "execute_result"
    }
   ],
   "source": [
    "a=[25,24,26,24,25,\"hello\"]\n",
    "25 in a\n"
   ]
  },
  {
   "cell_type": "markdown",
   "id": "c9df4cb7-59dd-436a-9252-ecb9856ac1f8",
   "metadata": {},
   "source": [
    "### reverse a list"
   ]
  },
  {
   "cell_type": "code",
   "execution_count": 72,
   "id": "069b9b2e-f2ee-41c4-a0b9-3157b927e515",
   "metadata": {},
   "outputs": [
    {
     "name": "stdout",
     "output_type": "stream",
     "text": [
      "[5, 545, 4544, 655, 4, 25, 1]\n",
      "[1, 25, 4, 655, 4544, 545, 5]\n"
     ]
    }
   ],
   "source": [
    "a=[1,25,4,655,4544,545,5]\n",
    "a.reverse()\n",
    "print(a)\n",
    "print(a[::-1])"
   ]
  },
  {
   "cell_type": "markdown",
   "id": "6d88fe63-4bc0-47b6-9493-f4e97d30ac6c",
   "metadata": {
    "jp-MarkdownHeadingCollapsed": true
   },
   "source": [
    "# questions"
   ]
  },
  {
   "cell_type": "code",
   "execution_count": 52,
   "id": "edd30a11-a4ee-40cf-9678-fd928c9cfdeb",
   "metadata": {},
   "outputs": [
    {
     "name": "stdout",
     "output_type": "stream",
     "text": [
      "['yes', 'No', 'Maybe', 'Yes', 'No']\n"
     ]
    }
   ],
   "source": [
    "responses=[\"yes\",\"\",\"No\",\"\",\"Maybe\",\"Yes\",\"No\",\"\"]\n",
    "clean=[]\n",
    "for response in responses:\n",
    "    if response!=\"\":\n",
    "        clean.append(response)\n",
    "    else:\n",
    "        pass\n",
    "\n",
    "print(clean)"
   ]
  },
  {
   "cell_type": "code",
   "execution_count": 55,
   "id": "034bcdb2-1a4c-4b1b-ab82-14fda4b8814d",
   "metadata": {},
   "outputs": [
    {
     "name": "stdout",
     "output_type": "stream",
     "text": [
      "average class 1= 86.6\n",
      "80.2\n"
     ]
    }
   ],
   "source": [
    "class1_score=[85,90,88,92,78]\n",
    "class2_score=[75,82,80,85,79]\n",
    "\n",
    "class1_avg=sum(class1_score)/len(class1_score)\n",
    "class2_avg=sum(class2_score)/len(class2_score)\n",
    "print(\"average class 1=\",class1_avg)\n",
    "print(class2_avg)\n",
    "              "
   ]
  },
  {
   "cell_type": "code",
   "execution_count": 56,
   "id": "d4aa7ce8-25ec-44a9-a99b-f98d45a31ea4",
   "metadata": {},
   "outputs": [
    {
     "name": "stdout",
     "output_type": "stream",
     "text": [
      "[[1, 2], [3, 4], [5, 6], [7, 8], [9, 10]]\n"
     ]
    }
   ],
   "source": [
    "list1=[[1,2],[3,4],[5,6]]\n",
    "list2=[[7,8],[9,10]]\n",
    "list3=list1+list2\n",
    "print(list3)"
   ]
  },
  {
   "cell_type": "code",
   "execution_count": 76,
   "id": "ad680ab0-9fcf-4deb-bd8c-3f1f59f7a437",
   "metadata": {},
   "outputs": [
    {
     "name": "stdout",
     "output_type": "stream",
     "text": [
      "\n",
      "\n",
      "hello,world!\n",
      "\n",
      "\n",
      "python is awesom!\n",
      "\n",
      "\n",
      "i love coding!\n"
     ]
    }
   ],
   "source": [
    "sentences=[\"hello,world!\",\"python is awesom!\",\"i love coding!\"]\n",
    "a=len(sentences)\n",
    "\n",
    "for i in range(a):\n",
    "    b=sentences[i]\n",
    "    print(\"\\n\")\n",
    "    print(b)"
   ]
  },
  {
   "cell_type": "code",
   "execution_count": 78,
   "id": "84fbb010-f96c-4058-8d8c-b5ab434cb9bd",
   "metadata": {},
   "outputs": [
    {
     "name": "stdout",
     "output_type": "stream",
     "text": [
      "hello,world!\n",
      "python is awesom!\n",
      "i love coding!\n"
     ]
    }
   ],
   "source": [
    "sentences=[\"hello,world!\",\"python is awesom!\",\"i love coding!\"]\n",
    "s=\"\\n\".join(sentences)\n",
    "print(s)\n",
    "\n"
   ]
  },
  {
   "cell_type": "markdown",
   "id": "94d72b7f-84f4-4a66-9691-6e03fd50eaf2",
   "metadata": {
    "jp-MarkdownHeadingCollapsed": true
   },
   "source": [
    "# Interview question"
   ]
  },
  {
   "cell_type": "code",
   "execution_count": 1,
   "id": "44ae363a-0e52-4fa3-a2d1-af7b3b579399",
   "metadata": {},
   "outputs": [
    {
     "name": "stdout",
     "output_type": "stream",
     "text": [
      "[5, 10, 20, 40, 50, 60]\n"
     ]
    }
   ],
   "source": [
    "data_pointer=[10,20,30,40,50]\n",
    "data_pointer.append(60)\n",
    "data_pointer.insert(0,5)\n",
    "data_pointer.remove(30)\n",
    "print(data_pointer)"
   ]
  },
  {
   "cell_type": "code",
   "execution_count": 24,
   "id": "ac51b70c-664c-4961-b695-931816cf8762",
   "metadata": {},
   "outputs": [
    {
     "name": "stdin",
     "output_type": "stream",
     "text": [
      "Enter number of studemt 3\n",
      "Enter the course credit for student  12\n",
      "Enter the course credit for student  10\n",
      "Enter the course credit for student  9\n"
     ]
    },
    {
     "name": "stdout",
     "output_type": "stream",
     "text": [
      "[12, 10, 9]\n",
      "['Full time', 'part time', 'part time']\n",
      "student 1 : enrollement status - Full time\n",
      "student 2 : enrollement status - part time\n",
      "student 3 : enrollement status - part time\n"
     ]
    }
   ],
   "source": [
    "n_student=int(input(\"Enter number of studemt\"))\n",
    "course_credit=[]\n",
    "for i in range (n_student):\n",
    "    credit=int(input(\"Enter the course credit for student \"))\n",
    "    course_credit.append(credit)\n",
    "    \n",
    "print(course_credit)\n",
    "enrollement=[]\n",
    "for credits in course_credit:\n",
    "    if credits>=12:\n",
    "        enrollement.append(\"Full time\")\n",
    "    else:\n",
    "        enrollement.append(\"part time\")\n",
    "\n",
    "print(enrollement)\n",
    "\n",
    "for i in range(n_student):\n",
    "    print(f\"student {i+1} : enrollement status - {enrollement[i]}\")        \n",
    "\n",
    "\n",
    "    "
   ]
  },
  {
   "cell_type": "code",
   "execution_count": 27,
   "id": "970fd1d4-4770-45d8-a177-5e18567a6f9a",
   "metadata": {},
   "outputs": [
    {
     "name": "stdin",
     "output_type": "stream",
     "text": [
      "Enter number of people 3\n",
      "enter the age of people 6\n",
      "enter the age of people 55\n",
      "enter the age of people 90\n"
     ]
    },
    {
     "name": "stdout",
     "output_type": "stream",
     "text": [
      "the number of people in each group\n",
      "children= 1\n",
      "adult= 1\n",
      "senior= 1\n"
     ]
    }
   ],
   "source": [
    "n_people=int(input(\"Enter number of people\"))\n",
    "ages=[]\n",
    "for i in range(n_people):\n",
    "    age=int(input(\"enter the age of people\"))\n",
    "    ages.append(age)\n",
    "\n",
    "child_count=0\n",
    "adult_count=0\n",
    "senior_count=0\n",
    "\n",
    "for i in ages:\n",
    "    if i<18:\n",
    "        child_count=child_count+1\n",
    "    elif 18<=i<65:\n",
    "        adult_count=adult_count+1\n",
    "    else:\n",
    "        senior_count=senior_count+1\n",
    "\n",
    "print(\"the number of people in each group\")\n",
    "print(\"children=\",child_count)\n",
    "print(\"adult=\",adult_count)\n",
    "print(\"senior=\",senior_count)\n",
    "\n",
    "            \n",
    "    "
   ]
  },
  {
   "cell_type": "code",
   "execution_count": 38,
   "id": "9d029d25-5466-4dad-813b-05e08122b59f",
   "metadata": {},
   "outputs": [
    {
     "name": "stdout",
     "output_type": "stream",
     "text": [
      "HI MY NAME IS RAJ HOW ARE YOU\n",
      "['HI', 'MY', 'NAME', 'IS', 'RAJ', 'HOW', 'ARE', 'YOU']\n"
     ]
    }
   ],
   "source": [
    "sentences=\" hi my name is Raj how are you\"\n",
    "list=[]\n",
    "list2=[]\n",
    "s=sentences.upper()\n",
    "a=s.split()\n",
    "for i in a:\n",
    "        list.append(i)\n",
    "        list2.append(i)\n",
    "\n",
    "\n",
    "b=\" \".join(list2)\n",
    "\n",
    "print(b)\n",
    "    \n",
    "    \n",
    "   \n",
    "\n",
    "print(list)\n",
    "        "
   ]
  },
  {
   "cell_type": "code",
   "execution_count": 41,
   "id": "a97e3b83-0583-4542-8a52-3ce98482c0ce",
   "metadata": {},
   "outputs": [
    {
     "name": "stdout",
     "output_type": "stream",
     "text": [
      "[12, 24, 35, 42, 45, 48, 98]\n",
      "[98, 48, 45, 42, 35, 24, 12]\n"
     ]
    }
   ],
   "source": [
    "\n",
    "ages=[12,45,98,35,42,48,24]\n",
    "s=sorted(ages)\n",
    "print(s)\n",
    "print(s[::-1])"
   ]
  },
  {
   "cell_type": "code",
   "execution_count": 42,
   "id": "47d6038d-ad5e-4750-99a9-bd4b2c745de9",
   "metadata": {},
   "outputs": [
    {
     "name": "stdout",
     "output_type": "stream",
     "text": [
      "The ascending order of the list is: [10, 11, 12, 13, 14, 15, 45, 56, 75, 78, 89]\n",
      "The descending order of the list is: [89, 78, 75, 56, 45, 15, 14, 13, 12, 11, 10]\n"
     ]
    }
   ],
   "source": [
    "ages = [11,12,13,14,45,56,89,78,75,10,15]\n",
    "ascending_ages = []\n",
    "descending_ages = []\n",
    "\n",
    "ages1 = ages.copy()\n",
    "ages2 = ages.copy()\n",
    "\n",
    "max_element = 0\n",
    "min_element = 0\n",
    "\n",
    "while True:\n",
    "    if ages1 == []:\n",
    "        break\n",
    "    else:\n",
    "        max_element = max(ages1)\n",
    "        descending_ages.append(max_element)\n",
    "        ages1.remove(max_element)\n",
    "\n",
    "while True:\n",
    "    if ages2 == []:\n",
    "        break\n",
    "    else:\n",
    "        min_element = min(ages2)\n",
    "        ascending_ages.append(min_element)\n",
    "        ages2.remove(min_element)\n",
    "\n",
    "print(f\"The ascending order of the list is: {ascending_ages}\")\n",
    "print(f\"The descending order of the list is: {descending_ages}\")"
   ]
  },
  {
   "cell_type": "code",
   "execution_count": 48,
   "id": "63214148-ce35-4923-bfae-84ef98bcf3c5",
   "metadata": {},
   "outputs": [
    {
     "name": "stdout",
     "output_type": "stream",
     "text": [
      "[78, 57, 45, 44, 34, 32, 25, 15, 14, 12, 1]\n"
     ]
    }
   ],
   "source": [
    "ages=[1,12,57,78,34,32,15,14,25,45,44]\n",
    "accend=[]\n",
    "deccend=[]\n",
    "ages1=ages.copy()\n",
    "ages2=ages.copy()\n",
    "\n",
    "min_a=0\n",
    "max_a=0\n",
    "\n",
    "while True:\n",
    "    if ages1==[]:\n",
    "        break\n",
    "    else:\n",
    "        max_a=max(ages1)\n",
    "        deccend.append(max_a)\n",
    "        ages1.remove(max_a)\n",
    "\n",
    "print(deccend)\n",
    "    "
   ]
  },
  {
   "cell_type": "markdown",
   "id": "835b8d1a-4cbe-4b24-8f02-6ba6316a81a0",
   "metadata": {
    "jp-MarkdownHeadingCollapsed": true
   },
   "source": [
    "# Tuples Part 1"
   ]
  },
  {
   "cell_type": "raw",
   "id": "8af7d55c-5077-4226-8b46-ccc42165c8f8",
   "metadata": {},
   "source": [
    "  # cannot be changes \"elements\" // ordered , immutable, hetrogenous data type,Iternable , Fixed size"
   ]
  },
  {
   "cell_type": "markdown",
   "id": "822aa12c-e9d2-48a6-a391-edc40389fa8f",
   "metadata": {},
   "source": [
    "## creating Tuples"
   ]
  },
  {
   "cell_type": "code",
   "execution_count": 50,
   "id": "be21a80f-18eb-46fc-9939-420c79aa94fe",
   "metadata": {},
   "outputs": [
    {
     "name": "stdout",
     "output_type": "stream",
     "text": [
      "(910, 210, 30, 40)\n",
      "<class 'tuple'>\n"
     ]
    }
   ],
   "source": [
    "a=(910,210,30,40)\n",
    "print(a)\n",
    "print(type(a))"
   ]
  },
  {
   "cell_type": "markdown",
   "id": "4df6ab2c-dc2d-496b-b5b7-de39f6f99b0c",
   "metadata": {},
   "source": [
    "## Empty Tuple"
   ]
  },
  {
   "cell_type": "code",
   "execution_count": 51,
   "id": "46071365-4545-4bee-ba3c-323a5756f9ba",
   "metadata": {},
   "outputs": [
    {
     "name": "stdout",
     "output_type": "stream",
     "text": [
      "()\n",
      "<class 'tuple'>\n"
     ]
    }
   ],
   "source": [
    "tup=()\n",
    "print(tup)\n",
    "print(type(tup))"
   ]
  },
  {
   "cell_type": "raw",
   "id": "a0e92129-1c7d-43d4-ac49-3d6b92b48772",
   "metadata": {},
   "source": [
    "## single Tuple"
   ]
  },
  {
   "cell_type": "code",
   "execution_count": 55,
   "id": "3130ba97-61b8-41a5-bbbc-ecf61dcad227",
   "metadata": {},
   "outputs": [
    {
     "name": "stdout",
     "output_type": "stream",
     "text": [
      "5\n",
      "<class 'int'>\n",
      "\n",
      "\n",
      "(5,)\n",
      "<class 'tuple'>\n"
     ]
    }
   ],
   "source": [
    "a=(5)\n",
    "print(a)\n",
    "print(type(a))\n",
    "\n",
    "print(\"\\n\")\n",
    "b=(5,)\n",
    "print(b)\n",
    "print(type(b))"
   ]
  },
  {
   "cell_type": "markdown",
   "id": "3013aead-894a-4560-9fb4-614a3c467ff4",
   "metadata": {
    "jp-MarkdownHeadingCollapsed": true
   },
   "source": [
    "## a Tuple with mixed data typed"
   ]
  },
  {
   "cell_type": "code",
   "execution_count": 57,
   "id": "cdc62a3a-b080-410b-88c9-595664d08388",
   "metadata": {},
   "outputs": [
    {
     "name": "stdout",
     "output_type": "stream",
     "text": [
      "(1, 2, 4, 'raj', True)\n",
      "<class 'tuple'>\n"
     ]
    }
   ],
   "source": [
    "b=(1,2,4,\"raj\",True)\n",
    "print(b)\n",
    "print(type(b))"
   ]
  },
  {
   "cell_type": "markdown",
   "id": "691c8a2f-deec-43d4-8174-2eb6070a0b5c",
   "metadata": {},
   "source": [
    "## nested tuples"
   ]
  },
  {
   "cell_type": "code",
   "execution_count": 58,
   "id": "8a6ed443-0d60-43a4-a3b7-1d78b83bdc48",
   "metadata": {},
   "outputs": [
    {
     "name": "stdout",
     "output_type": "stream",
     "text": [
      "('mouse', 2.3, (10, 20, 30))\n",
      "<class 'tuple'>\n"
     ]
    }
   ],
   "source": [
    "a=(\"mouse\",2.3,(10,20,30))\n",
    "print(a)\n",
    "print(type(a))"
   ]
  },
  {
   "cell_type": "code",
   "execution_count": 59,
   "id": "7cdd640b-4993-4b07-a2b1-58ce31233c67",
   "metadata": {},
   "outputs": [
    {
     "name": "stdout",
     "output_type": "stream",
     "text": [
      "<class 'tuple'>\n"
     ]
    }
   ],
   "source": [
    "num=([10,20],[650,6.6,52,45])\n",
    "print(type(num))"
   ]
  },
  {
   "cell_type": "markdown",
   "id": "f8944c84-48d0-46d3-a268-001af24de4d8",
   "metadata": {},
   "source": [
    "## Tuple Constructor"
   ]
  },
  {
   "cell_type": "code",
   "execution_count": 61,
   "id": "6e9c597e-8fcb-4560-8ea6-5144bf2e508f",
   "metadata": {},
   "outputs": [
    {
     "name": "stdout",
     "output_type": "stream",
     "text": [
      "()\n",
      "<class 'tuple'>\n"
     ]
    }
   ],
   "source": [
    "empty=tuple()\n",
    "print(empty)\n",
    "print(type(empty))"
   ]
  },
  {
   "cell_type": "markdown",
   "id": "58c113b2-1855-4215-b90b-2083730b1537",
   "metadata": {},
   "source": [
    "## Converting list into Tuple"
   ]
  },
  {
   "cell_type": "code",
   "execution_count": 131,
   "id": "324ab9f6-0ee9-4574-9579-b332fc9cbd86",
   "metadata": {},
   "outputs": [
    {
     "name": "stdout",
     "output_type": "stream",
     "text": [
      "(1, 2, 3, 4)\n",
      "<class 'tuple'>\n"
     ]
    }
   ],
   "source": [
    "list1=[1,2,3,4]\n",
    "number=tuple(list1)\n",
    "print(number)\n",
    "print(type(number))\n"
   ]
  },
  {
   "cell_type": "markdown",
   "id": "216d6942-e514-4739-be39-9b1e7be57b50",
   "metadata": {},
   "source": [
    "## Converting string into a tuple"
   ]
  },
  {
   "cell_type": "code",
   "execution_count": 65,
   "id": "30af1e29-a539-4dc6-b763-5be4cde2d102",
   "metadata": {},
   "outputs": [
    {
     "name": "stdout",
     "output_type": "stream",
     "text": [
      "('h', 'e', 'e', 'l', 'o')\n",
      "<class 'tuple'>\n"
     ]
    }
   ],
   "source": [
    "string=\"heelo\"\n",
    "tuple1=tuple(string)\n",
    "print(tuple1)\n",
    "print(type(tuple1))"
   ]
  },
  {
   "cell_type": "markdown",
   "id": "d8cead26-f2b2-4f62-ae48-1232a21ff4fd",
   "metadata": {},
   "source": [
    "## convertinfg a dictionary into a tuple"
   ]
  },
  {
   "cell_type": "code",
   "execution_count": 69,
   "id": "dd70d6cb-0e16-4dbe-ae43-3559bea7c149",
   "metadata": {},
   "outputs": [
    {
     "name": "stdout",
     "output_type": "stream",
     "text": [
      "{'a': 1, 'b': 2, 'c': 3}\n",
      "<class 'dict'>\n",
      "('a', 'b', 'c')\n",
      "<class 'tuple'>\n"
     ]
    }
   ],
   "source": [
    "dict={'a':1,'b':2,'c':3,}\n",
    "\n",
    "\n",
    "print(dict)\n",
    "print(type(dict))\n",
    "\n",
    "tup=tuple(dict)\n",
    "print(tup)\n",
    "print(type(tup))\n"
   ]
  },
  {
   "cell_type": "markdown",
   "id": "7dcb6c19-4caf-4177-a6ff-17cac90fd7d5",
   "metadata": {},
   "source": [
    "## converting a set into Tuple"
   ]
  },
  {
   "cell_type": "code",
   "execution_count": 71,
   "id": "dad4c147-7780-440f-b8bc-7ab6258d117e",
   "metadata": {},
   "outputs": [
    {
     "name": "stdout",
     "output_type": "stream",
     "text": [
      "{1, 2, 3, 4}\n",
      "<class 'set'>\n",
      "(1, 2, 3, 4)\n",
      "<class 'tuple'>\n"
     ]
    }
   ],
   "source": [
    "set={1,2,3,4}\n",
    "print(set)\n",
    "print(type(set))\n",
    "tup=tuple(set)\n",
    "print(tup)\n",
    "print(type(tup))\n"
   ]
  },
  {
   "cell_type": "markdown",
   "id": "8a2beada-d442-4590-82c3-2c8bb4cdbd28",
   "metadata": {
    "jp-MarkdownHeadingCollapsed": true
   },
   "source": [
    "# Timepass"
   ]
  },
  {
   "cell_type": "code",
   "execution_count": 35,
   "id": "09a49218-e084-4ddf-961d-acdef2877f40",
   "metadata": {},
   "outputs": [
    {
     "name": "stdin",
     "output_type": "stream",
     "text": [
      "Enter time in sec 6\n"
     ]
    },
    {
     "name": "stdout",
     "output_type": "stream",
     "text": [
      "00,00,06\n",
      "00,00,05\n",
      "00,00,04\n",
      "00,00,03\n",
      "00,00,02\n",
      "00,00,01\n",
      "\n",
      "\n",
      "Fuck YOU!\n"
     ]
    }
   ],
   "source": [
    "import time\n",
    "\n",
    "my_time=int(input(\"Enter time in sec\"))\n",
    "\n",
    "for i in range(my_time,0,-1):\n",
    "    hours=int(i/3600)\n",
    "    mini=int(i/60)\n",
    "    sec=int(i%60)\n",
    "    print(f\"{hours:02},{mini:02},{sec:02}\")\n",
    "    \n",
    "    time.sleep(1)\n",
    "\n",
    "\n",
    "\n",
    "print(\"\\n\")\n",
    "print(\"Fuck YOU!\")"
   ]
  },
  {
   "cell_type": "code",
   "execution_count": null,
   "id": "2851dd8f-0bb4-4e33-8bd9-63d74df31a14",
   "metadata": {},
   "outputs": [],
   "source": []
  },
  {
   "cell_type": "code",
   "execution_count": null,
   "id": "7b867be8-c142-4ce5-b14d-9075efd41d68",
   "metadata": {},
   "outputs": [],
   "source": []
  },
  {
   "cell_type": "code",
   "execution_count": null,
   "id": "716fffbc-7112-4d2a-b185-54ae5e150286",
   "metadata": {},
   "outputs": [],
   "source": []
  },
  {
   "cell_type": "code",
   "execution_count": null,
   "id": "ae15277e-8ae4-4e86-abec-71b3b552e177",
   "metadata": {},
   "outputs": [],
   "source": []
  },
  {
   "cell_type": "code",
   "execution_count": null,
   "id": "7bcb97cc-4d83-49d9-a4d5-96f86da8a1a6",
   "metadata": {},
   "outputs": [],
   "source": []
  },
  {
   "cell_type": "code",
   "execution_count": null,
   "id": "bfa88430-a6ad-4aee-a528-85d2eeadbb10",
   "metadata": {},
   "outputs": [],
   "source": []
  },
  {
   "cell_type": "code",
   "execution_count": null,
   "id": "03267690-9070-4a1c-8f49-a4c76ca7d0d1",
   "metadata": {},
   "outputs": [],
   "source": []
  },
  {
   "cell_type": "code",
   "execution_count": null,
   "id": "2d7e2d8f-be8f-4507-b938-e6a4c29338a4",
   "metadata": {},
   "outputs": [],
   "source": []
  },
  {
   "cell_type": "markdown",
   "id": "00c6d0eb-d653-4b15-a01b-4d667ed6d741",
   "metadata": {
    "jp-MarkdownHeadingCollapsed": true
   },
   "source": [
    "# Tuple Part2"
   ]
  },
  {
   "cell_type": "markdown",
   "id": "eb350dc2-6c05-4736-a0de-e025ad4a1b65",
   "metadata": {},
   "source": [
    "## indexing"
   ]
  },
  {
   "cell_type": "code",
   "execution_count": 84,
   "id": "bd1d36eb-3e92-43c6-a120-fa8c53db4db5",
   "metadata": {},
   "outputs": [
    {
     "name": "stdout",
     "output_type": "stream",
     "text": [
      "apple\n",
      "banana\n",
      "date\n"
     ]
    }
   ],
   "source": [
    "my_tuple=('apple','banana','cherry','date')\n",
    "print(my_tuple[0])\n",
    "print(my_tuple[1])\n",
    "print(my_tuple[-1])"
   ]
  },
  {
   "cell_type": "markdown",
   "id": "e582a04b-8891-465e-8f73-adbec989d894",
   "metadata": {},
   "source": [
    "## slicing in tuple"
   ]
  },
  {
   "cell_type": "code",
   "execution_count": 89,
   "id": "aaa14f88-cf95-46f3-acbd-66dd21d0e589",
   "metadata": {},
   "outputs": [
    {
     "name": "stdout",
     "output_type": "stream",
     "text": [
      "('b', 'c', 'd')\n"
     ]
    }
   ],
   "source": [
    "my_tup=('a','b','c','d','e')\n",
    "print(my_tup[1:4])"
   ]
  },
  {
   "cell_type": "code",
   "execution_count": 90,
   "id": "0ee8cef1-6549-4261-8546-6ebc369dc80e",
   "metadata": {},
   "outputs": [
    {
     "name": "stdout",
     "output_type": "stream",
     "text": [
      "('a', 'b', 'c', 'd')\n"
     ]
    }
   ],
   "source": [
    "my_tup=('a','b','c','d','e')\n",
    "print(my_tup[:4])"
   ]
  },
  {
   "cell_type": "code",
   "execution_count": 91,
   "id": "19fb3722-2bc9-49b9-bc55-13a0c0fe1055",
   "metadata": {},
   "outputs": [
    {
     "name": "stdout",
     "output_type": "stream",
     "text": [
      "('a', 'b', 'c', 'd', 'e')\n"
     ]
    }
   ],
   "source": [
    "my_tup=('a','b','c','d','e')\n",
    "print(my_tup[:])"
   ]
  },
  {
   "cell_type": "markdown",
   "id": "787056a8-a9a5-423e-ba70-9177a35fb6f8",
   "metadata": {},
   "source": [
    "## Slicing with jump"
   ]
  },
  {
   "cell_type": "code",
   "execution_count": 94,
   "id": "9b006c2a-e021-408a-a8ea-69756bd9131c",
   "metadata": {},
   "outputs": [
    {
     "name": "stdout",
     "output_type": "stream",
     "text": [
      "('b', 'd')\n"
     ]
    }
   ],
   "source": [
    "my_tup=('a','b','c','d','e')\n",
    "print(my_tup[1:4:2])"
   ]
  },
  {
   "cell_type": "markdown",
   "id": "1c10e5db-d40b-418a-9070-4a4afc5636f7",
   "metadata": {},
   "source": [
    " ## negative Slicing"
   ]
  },
  {
   "cell_type": "code",
   "execution_count": 96,
   "id": "9a8ed32b-d7f5-48a7-84c4-f88a75f3867c",
   "metadata": {},
   "outputs": [
    {
     "name": "stdout",
     "output_type": "stream",
     "text": [
      "('apple',)\n",
      "('banana', 'cheery', 'date')\n"
     ]
    }
   ],
   "source": [
    "tup2=('apple','banana','cheery','date')\n",
    "print(tup2[:-3])\n",
    "\n",
    "\n",
    "print(tup2[-3:])"
   ]
  },
  {
   "cell_type": "markdown",
   "id": "d721ead1-b394-4758-8435-80430d270269",
   "metadata": {},
   "source": [
    "## REVERSE THE TUPLE"
   ]
  },
  {
   "cell_type": "code",
   "execution_count": 97,
   "id": "a4f010a4-3a5f-464d-948e-5513a7c36262",
   "metadata": {},
   "outputs": [
    {
     "name": "stdout",
     "output_type": "stream",
     "text": [
      "('date', 'cheery', 'banana', 'apple')\n"
     ]
    }
   ],
   "source": [
    "tup2=('apple','banana','cheery','date')\n",
    "print(tup2[::-1])"
   ]
  },
  {
   "cell_type": "code",
   "execution_count": null,
   "id": "d30d9a41-0f97-4a36-8946-8ae3f8faf569",
   "metadata": {},
   "outputs": [],
   "source": []
  },
  {
   "cell_type": "code",
   "execution_count": 102,
   "id": "291a29ec-8d36-4ea7-837e-2f4797a61a06",
   "metadata": {},
   "outputs": [
    {
     "name": "stdout",
     "output_type": "stream",
     "text": [
      "(1, 2, 3, 4, 5, 6, 7, 8)\n",
      "(4, 5, 6, 7, 8)\n",
      "(1, 2, 3, 4)\n",
      "()\n",
      "(1, 2, 3, 4, 5, 6, 7, 8)\n"
     ]
    }
   ],
   "source": [
    "T=(1,2,3,4,5,6,7,8)\n",
    "print(T[::])\n",
    "print(T[3:])\n",
    "print(T[:4])\n",
    "print(T[-2:-3])\n",
    "print(T[:])"
   ]
  },
  {
   "cell_type": "markdown",
   "id": "f4f8145d-6246-4c5e-8184-04f5873d3163",
   "metadata": {},
   "source": [
    "## Duplicates are allowed in tuple"
   ]
  },
  {
   "cell_type": "code",
   "execution_count": 103,
   "id": "c7c224b2-1578-4414-83b6-415d52a65446",
   "metadata": {},
   "outputs": [
    {
     "name": "stdout",
     "output_type": "stream",
     "text": [
      "(12, 14, 15, 12, 14, 53, 14, 15, 89)\n"
     ]
    }
   ],
   "source": [
    "a=(12,14,15,12,14,53,14,15,89)\n",
    "print(a)"
   ]
  },
  {
   "cell_type": "markdown",
   "id": "6db97b49-1231-4d7c-a3b1-5038b87a3cf4",
   "metadata": {},
   "source": [
    "## Methods of Tuple"
   ]
  },
  {
   "cell_type": "markdown",
   "id": "0bbdfd99-d71c-43b9-a211-0b3c007d39c6",
   "metadata": {},
   "source": [
    "### Count Method // dublicats"
   ]
  },
  {
   "cell_type": "code",
   "execution_count": 104,
   "id": "c0d42da1-8e0b-4f2d-8f47-d2af8cb87aa8",
   "metadata": {},
   "outputs": [
    {
     "name": "stdout",
     "output_type": "stream",
     "text": [
      "2\n"
     ]
    }
   ],
   "source": [
    "a=(12,14,15,12,14,53,14,15,89)\n",
    "print(a.count(12))"
   ]
  },
  {
   "cell_type": "code",
   "execution_count": 109,
   "id": "92635bd1-1d9d-499d-91e6-3be4bb858264",
   "metadata": {},
   "outputs": [
    {
     "name": "stdout",
     "output_type": "stream",
     "text": [
      "3\n",
      "2\n"
     ]
    }
   ],
   "source": [
    "b=(\"Raj\",\"Nishant\",\"Ayush\",\"Raj\",\"Raj\",\"Ayush\")\n",
    "print(b.count(\"Raj\"))\n",
    "print(b.count(\"Ayush\"))      "
   ]
  },
  {
   "cell_type": "markdown",
   "id": "7393b5dc-72ce-467c-b432-0e980e4b10d4",
   "metadata": {},
   "source": [
    "### Index"
   ]
  },
  {
   "cell_type": "code",
   "execution_count": 110,
   "id": "3ed10314-5c40-4258-852f-955317e6b7a7",
   "metadata": {},
   "outputs": [
    {
     "name": "stdout",
     "output_type": "stream",
     "text": [
      "0\n",
      "2\n"
     ]
    }
   ],
   "source": [
    "b=(\"Raj\",\"Nishant\",\"Ayush\",\"Raj\",\"Raj\",\"Ayush\")\n",
    "print(b.index(\"Raj\"))\n",
    "print(b.index(\"Ayush\"))"
   ]
  },
  {
   "cell_type": "markdown",
   "id": "1d7681dd-2d3f-4143-a5e7-acf4e3d77297",
   "metadata": {
    "jp-MarkdownHeadingCollapsed": true
   },
   "source": [
    "# Tuple Part 3"
   ]
  },
  {
   "cell_type": "raw",
   "id": "bdb8f77f-8829-4144-a82c-33baa8ad103c",
   "metadata": {},
   "source": [
    "# once a tuple is created you cannnot change its value.//immutable\n",
    "# but covert into list and we can change its value"
   ]
  },
  {
   "cell_type": "markdown",
   "id": "8f52de3a-e0d4-44ce-ba16-86ac0e173e85",
   "metadata": {
    "jp-MarkdownHeadingCollapsed": true
   },
   "source": [
    "## Converting Tuple into list"
   ]
  },
  {
   "cell_type": "code",
   "execution_count": 1,
   "id": "2045cabe-7d1c-4320-9d18-0c83d10193c0",
   "metadata": {},
   "outputs": [
    {
     "name": "stdout",
     "output_type": "stream",
     "text": [
      "('data', 'python', 'science', 'swati')\n",
      "<class 'tuple'>\n",
      "['data', 'python', 'science', 'swati']\n",
      "<class 'list'>\n"
     ]
    }
   ],
   "source": [
    "x = (\"data\", \"python\", \"science\", \"swati\")\n",
    "print(x)\n",
    "print(type(x))\n",
    "y=list(x)\n",
    "print(y)\n",
    "print(type(y))\n"
   ]
  },
  {
   "cell_type": "markdown",
   "id": "277e1036-7a7e-473e-972c-164dd2622abe",
   "metadata": {
    "jp-MarkdownHeadingCollapsed": true
   },
   "source": [
    "## add items to tuple th list"
   ]
  },
  {
   "cell_type": "code",
   "execution_count": 7,
   "id": "b0cf3699-831a-47e8-bc63-3fed1c2e41bd",
   "metadata": {},
   "outputs": [
    {
     "name": "stdout",
     "output_type": "stream",
     "text": [
      "New list [25, 2, 27, 28, 29, 30]\n",
      "new item added to tuple (25, 2, 27, 28, 29, 30)\n"
     ]
    }
   ],
   "source": [
    "a=(25,2,27,28,29)\n",
    "y=list(a)\n",
    "y.append(30)\n",
    "print(\"New list\",y)\n",
    "c=tuple(y)\n",
    "print(\"new item added to tuple\",c)"
   ]
  },
  {
   "cell_type": "markdown",
   "id": "92a0f2c5-704e-48eb-af16-80e83ad7c3d4",
   "metadata": {},
   "source": [
    "## Add item to a  single tuple "
   ]
  },
  {
   "cell_type": "code",
   "execution_count": 59,
   "id": "47956f16-e472-4b86-bf6d-cb0ef640c6a2",
   "metadata": {},
   "outputs": [
    {
     "name": "stdout",
     "output_type": "stream",
     "text": [
      "('python', 'data', 'science', 'code', 'Sex')\n",
      "('code', 'Sex', 'python', 'data', 'science', 'code', 'Sex')\n"
     ]
    }
   ],
   "source": [
    "tup1=(\"python\",\"data\",\"science\")\n",
    "y=(\"code\",\"Sex\")\n",
    "tup1+=y\n",
    "y=y+tup1\n",
    "print(tup1)\n",
    "print(y)\n"
   ]
  },
  {
   "cell_type": "markdown",
   "id": "d4f037fc-45e7-4c7c-8c3a-be24a562790a",
   "metadata": {},
   "source": [
    "## Remove item th list"
   ]
  },
  {
   "cell_type": "code",
   "execution_count": 15,
   "id": "a9e4d1b2-04b4-4ea7-b6f3-532be5744821",
   "metadata": {},
   "outputs": [
    {
     "name": "stdout",
     "output_type": "stream",
     "text": [
      "['python', 'data', 'science', 'Daily']\n",
      "['data', 'science', 'Daily']\n",
      "('data', 'science', 'Daily')\n"
     ]
    }
   ],
   "source": [
    "tup1=(\"python\",\"data\",\"science\",\"Daily\")\n",
    "y=list(tup1)\n",
    "print(y)\n",
    "y.remove(\"python\")\n",
    "\n",
    "\n",
    "print(y)\n",
    "tup2=tuple(y)\n",
    "print(tup2)\n",
    "\n"
   ]
  },
  {
   "cell_type": "markdown",
   "id": "daec9233-36f3-43c6-9b6a-943033597da0",
   "metadata": {},
   "source": [
    "## Changing items in the tuple th list"
   ]
  },
  {
   "cell_type": "code",
   "execution_count": 20,
   "id": "deb3a070-05ba-4242-91b7-5b124dacb3c8",
   "metadata": {},
   "outputs": [
    {
     "name": "stdout",
     "output_type": "stream",
     "text": [
      "['python', 'data', 'science', 'Daily']\n",
      "['c++', 'data', 'science', 'Daily']\n",
      "('c++', 'data', 'science', 'Daily')\n"
     ]
    }
   ],
   "source": [
    "tup1=(\"python\",\"data\",\"science\",\"Daily\")\n",
    "y=list(tup1)\n",
    "print(y)\n",
    "y[0]=\"c++\"\n",
    "print(y)\n",
    "c=tuple(y)\n",
    "print(c)\n"
   ]
  },
  {
   "cell_type": "markdown",
   "id": "e893ccfb-5bf2-45ef-a59a-a912ab547b3d",
   "metadata": {},
   "source": [
    "## del Keyword"
   ]
  },
  {
   "cell_type": "code",
   "execution_count": 23,
   "id": "c0a4af2e-5627-4f91-9964-508e0a367a08",
   "metadata": {},
   "outputs": [
    {
     "ename": "NameError",
     "evalue": "name 'tup1' is not defined",
     "output_type": "error",
     "traceback": [
      "\u001b[1;31m---------------------------------------------------------------------------\u001b[0m",
      "\u001b[1;31mNameError\u001b[0m                                 Traceback (most recent call last)",
      "Cell \u001b[1;32mIn[23], line 3\u001b[0m\n\u001b[0;32m      1\u001b[0m tup1\u001b[38;5;241m=\u001b[39m(\u001b[38;5;124m\"\u001b[39m\u001b[38;5;124mpython\u001b[39m\u001b[38;5;124m\"\u001b[39m,\u001b[38;5;124m\"\u001b[39m\u001b[38;5;124mdata\u001b[39m\u001b[38;5;124m\"\u001b[39m,\u001b[38;5;124m\"\u001b[39m\u001b[38;5;124mscience\u001b[39m\u001b[38;5;124m\"\u001b[39m,\u001b[38;5;124m\"\u001b[39m\u001b[38;5;124mDaily\u001b[39m\u001b[38;5;124m\"\u001b[39m)\n\u001b[0;32m      2\u001b[0m \u001b[38;5;28;01mdel\u001b[39;00m tup1\n\u001b[1;32m----> 3\u001b[0m \u001b[38;5;28mprint\u001b[39m(tup1)\n",
      "\u001b[1;31mNameError\u001b[0m: name 'tup1' is not defined"
     ]
    }
   ],
   "source": [
    "tup1=(\"python\",\"data\",\"science\",\"Daily\")\n",
    "del tup1\n",
    "\n",
    "\n",
    "print(tup1)"
   ]
  },
  {
   "cell_type": "markdown",
   "id": "ef35e8f6-4194-403a-abc9-550c64bf46e3",
   "metadata": {},
   "source": [
    "## loop through a tuple"
   ]
  },
  {
   "cell_type": "code",
   "execution_count": 25,
   "id": "3d4c4a9b-783c-49aa-8ead-6cce24f7d3e8",
   "metadata": {},
   "outputs": [
    {
     "name": "stdout",
     "output_type": "stream",
     "text": [
      "a\n",
      "b\n",
      "c\n",
      "d\n"
     ]
    }
   ],
   "source": [
    "this_tuple=(\"a\",\"b\",\"c\",\"d\")\n",
    "for x in this_tuple:\n",
    "    print(x)"
   ]
  },
  {
   "cell_type": "markdown",
   "id": "e729af25-3be8-4b4c-8e9c-bde223c1caf3",
   "metadata": {},
   "source": [
    "## join two tuple"
   ]
  },
  {
   "cell_type": "code",
   "execution_count": 28,
   "id": "b177ec80-e04f-41cc-b537-14a472c460d9",
   "metadata": {},
   "outputs": [
    {
     "name": "stdout",
     "output_type": "stream",
     "text": [
      "('a', 'b', 'c', 'd', 'python', 'data', 'science', 'Daily')\n"
     ]
    }
   ],
   "source": [
    "tup1=(\"a\",\"b\",\"c\",\"d\")\n",
    "tup2=(\"python\",\"data\",\"science\",\"Daily\")\n",
    "tup3=tup1+tup2\n",
    "print(tup3)"
   ]
  },
  {
   "cell_type": "markdown",
   "id": "4d06c850-ba71-49ed-852e-c1f7ed5e7de3",
   "metadata": {},
   "source": [
    "## Multiply tuples"
   ]
  },
  {
   "cell_type": "code",
   "execution_count": 29,
   "id": "1228a93c-049e-4726-b2dd-f5d967bef987",
   "metadata": {},
   "outputs": [
    {
     "name": "stdout",
     "output_type": "stream",
     "text": [
      "('apple', 'banana', 'cherr', 'apple', 'banana', 'cherr', 'apple', 'banana', 'cherr')\n"
     ]
    }
   ],
   "source": [
    "fruits=(\"apple\",\"banana\",\"cherr\")\n",
    "mytup= fruits*3\n",
    "print(mytup)"
   ]
  },
  {
   "cell_type": "code",
   "execution_count": 30,
   "id": "f660a0d4-be5b-4fc2-9500-4b82e22313ac",
   "metadata": {},
   "outputs": [
    {
     "name": "stdout",
     "output_type": "stream",
     "text": [
      "('apple', 'banana', 'cherr', 'apple', 'banana', 'cherr')\n"
     ]
    }
   ],
   "source": [
    "fruits=(\"apple\",\"banana\",\"cherr\")\n",
    "mytup= fruits*2\n",
    "print(mytup)\n"
   ]
  },
  {
   "cell_type": "markdown",
   "id": "2dfe2c67-9ef4-42db-936b-7bcb77ecb889",
   "metadata": {
    "jp-MarkdownHeadingCollapsed": true
   },
   "source": [
    "# Sets Part1"
   ]
  },
  {
   "cell_type": "raw",
   "id": "5bccfad0-8738-4c2b-a989-952d1ff00c1b",
   "metadata": {},
   "source": [
    "# removing duplicates from a list, memebership testing , findingb commom=n elements, finding unique elements in each group\n",
    "# unordered collection of unique elements\n",
    "# unordered, unique elements, mutable, iterable"
   ]
  },
  {
   "cell_type": "markdown",
   "id": "bee205ba-2d12-4b13-b9ff-09dec152644d",
   "metadata": {},
   "source": [
    "## Creating sets"
   ]
  },
  {
   "cell_type": "code",
   "execution_count": 36,
   "id": "97fa8498-73f4-49bd-9b7e-4a62e12024b7",
   "metadata": {},
   "outputs": [
    {
     "name": "stdout",
     "output_type": "stream",
     "text": [
      "{1, 2, 3, 4, 5}\n",
      "<class 'set'>\n"
     ]
    }
   ],
   "source": [
    "my_var={1,2,3,4,5}\n",
    "print(my_var)\n",
    "print(type(my_var))"
   ]
  },
  {
   "cell_type": "markdown",
   "id": "f0498df6-294e-47bc-a589-618dd71acc26",
   "metadata": {},
   "source": [
    "## set([]) method"
   ]
  },
  {
   "cell_type": "code",
   "execution_count": 38,
   "id": "edad6b83-01b4-451c-9b74-eb15bd8e0d65",
   "metadata": {},
   "outputs": [
    {
     "name": "stdout",
     "output_type": "stream",
     "text": [
      "{40, 10, 20, 30}\n",
      "<class 'set'>\n"
     ]
    }
   ],
   "source": [
    "another_set=set([10,20,30,40])\n",
    "print(another_set)\n",
    "print(type(another_set))"
   ]
  },
  {
   "cell_type": "markdown",
   "id": "60c0e859-bf30-4b0d-95fc-150df0e4ea31",
   "metadata": {},
   "source": [
    "## Empty set"
   ]
  },
  {
   "cell_type": "code",
   "execution_count": 40,
   "id": "23465dfd-6edd-4479-afd6-4193cbc7f68d",
   "metadata": {},
   "outputs": [
    {
     "name": "stdout",
     "output_type": "stream",
     "text": [
      "{}\n",
      "<class 'dict'>\n"
     ]
    }
   ],
   "source": [
    "emty={}\n",
    "print(emty)\n",
    "print(type(emty))"
   ]
  },
  {
   "cell_type": "code",
   "execution_count": 41,
   "id": "08f34bde-b1f0-42d1-88e5-81497b2d9abb",
   "metadata": {},
   "outputs": [
    {
     "name": "stdout",
     "output_type": "stream",
     "text": [
      "set()\n",
      "<class 'set'>\n"
     ]
    }
   ],
   "source": [
    "xyz=set()\n",
    "print(xyz)\n",
    "print(type(xyz))"
   ]
  },
  {
   "cell_type": "markdown",
   "id": "e08fa124-02fa-4a0c-9733-2fa330af8767",
   "metadata": {},
   "source": [
    "## properties of set"
   ]
  },
  {
   "cell_type": "markdown",
   "id": "0aa4d98a-710f-4c91-80d5-72fb799ff2be",
   "metadata": {},
   "source": [
    "### 1.unordered"
   ]
  },
  {
   "cell_type": "code",
   "execution_count": 43,
   "id": "83b6bf46-8b2e-4253-991f-457005102a0a",
   "metadata": {},
   "outputs": [
    {
     "name": "stdout",
     "output_type": "stream",
     "text": [
      "{1, 2, 3, 4}\n"
     ]
    }
   ],
   "source": [
    "my_sets={3,1,4,2}\n",
    "print(my_sets)"
   ]
  },
  {
   "cell_type": "markdown",
   "id": "b84e4209-8f07-4501-b697-171462e3da73",
   "metadata": {},
   "source": [
    "### 2) No Indexing / slicing"
   ]
  },
  {
   "cell_type": "code",
   "execution_count": 45,
   "id": "43997b8c-8668-4410-b677-bf06a6558c0f",
   "metadata": {},
   "outputs": [
    {
     "ename": "TypeError",
     "evalue": "'set' object is not subscriptable",
     "output_type": "error",
     "traceback": [
      "\u001b[1;31m---------------------------------------------------------------------------\u001b[0m",
      "\u001b[1;31mTypeError\u001b[0m                                 Traceback (most recent call last)",
      "Cell \u001b[1;32mIn[45], line 2\u001b[0m\n\u001b[0;32m      1\u001b[0m a\u001b[38;5;241m=\u001b[39m{\u001b[38;5;124m\"\u001b[39m\u001b[38;5;124manimals\u001b[39m\u001b[38;5;124m\"\u001b[39m,\u001b[38;5;124m\"\u001b[39m\u001b[38;5;124mball\u001b[39m\u001b[38;5;124m\"\u001b[39m,\u001b[38;5;124m\"\u001b[39m\u001b[38;5;124mcat\u001b[39m\u001b[38;5;124m\"\u001b[39m}\n\u001b[1;32m----> 2\u001b[0m \u001b[38;5;28mprint\u001b[39m(a[\u001b[38;5;241m0\u001b[39m])\n",
      "\u001b[1;31mTypeError\u001b[0m: 'set' object is not subscriptable"
     ]
    }
   ],
   "source": [
    "a={\"animals\",\"ball\",\"cat\"}\n",
    "print(a[0])"
   ]
  },
  {
   "cell_type": "markdown",
   "id": "8c78244a-a455-411c-9957-39e4a695065a",
   "metadata": {},
   "source": [
    "### 3. Unique elements"
   ]
  },
  {
   "cell_type": "code",
   "execution_count": 46,
   "id": "0933ec2e-6091-4a37-aa45-96dde4c0c916",
   "metadata": {},
   "outputs": [
    {
     "name": "stdout",
     "output_type": "stream",
     "text": [
      "{65, 8, 10, 12, 13, 14, 15, 16, 17, 18, 52}\n"
     ]
    }
   ],
   "source": [
    "my_set={8,10,12,14,15,12,17,18,10,13,14,16,15,14,12,10,17,52,65}\n",
    "print(my_set)\n",
    "\n"
   ]
  },
  {
   "cell_type": "markdown",
   "id": "c24b303f-5a71-40c8-bde9-3ea59b31ef96",
   "metadata": {},
   "source": [
    "### 4. Iterable"
   ]
  },
  {
   "cell_type": "code",
   "execution_count": 50,
   "id": "4df39041-1a13-4686-8953-92218dff40e8",
   "metadata": {},
   "outputs": [
    {
     "name": "stdout",
     "output_type": "stream",
     "text": [
      "25\n",
      "37\n",
      "23\n",
      "41\n",
      "14\n"
     ]
    }
   ],
   "source": [
    "my_set ={14,25,37,41,23}\n",
    "for elements in my_set:\n",
    "    print(elements)"
   ]
  },
  {
   "cell_type": "markdown",
   "id": "a4bf9dd4-abe5-4cac-8c5f-bb1627b40647",
   "metadata": {},
   "source": [
    "### 5 HAshable elements"
   ]
  },
  {
   "cell_type": "raw",
   "id": "9d80ac32-5bac-4024-9f26-f96a15b16e91",
   "metadata": {},
   "source": [
    "# object with fixed value.. and cannot contain list dictionaries"
   ]
  },
  {
   "cell_type": "code",
   "execution_count": 52,
   "id": "2703a758-fd5a-480f-80e6-dba569c8edf0",
   "metadata": {},
   "outputs": [
    {
     "name": "stdout",
     "output_type": "stream",
     "text": [
      "{1, 2, 3, 3.6, 'a', (10, 20)}\n"
     ]
    }
   ],
   "source": [
    "my_set={1,2,3,\"a\",3.6,(10,20)}\n",
    "print(my_set)"
   ]
  },
  {
   "cell_type": "code",
   "execution_count": 54,
   "id": "1f4343a4-9c6d-4277-8a40-d3c40cfc88ee",
   "metadata": {},
   "outputs": [
    {
     "ename": "TypeError",
     "evalue": "unhashable type: 'list'",
     "output_type": "error",
     "traceback": [
      "\u001b[1;31m---------------------------------------------------------------------------\u001b[0m",
      "\u001b[1;31mTypeError\u001b[0m                                 Traceback (most recent call last)",
      "Cell \u001b[1;32mIn[54], line 1\u001b[0m\n\u001b[1;32m----> 1\u001b[0m my_set1\u001b[38;5;241m=\u001b[39m{\u001b[38;5;241m1\u001b[39m,\u001b[38;5;241m2\u001b[39m,\u001b[38;5;241m3\u001b[39m,\u001b[38;5;124m\"\u001b[39m\u001b[38;5;124ma\u001b[39m\u001b[38;5;124m\"\u001b[39m,\u001b[38;5;241m3.6\u001b[39m,[\u001b[38;5;241m10\u001b[39m,\u001b[38;5;241m20\u001b[39m]}\n\u001b[0;32m      2\u001b[0m \u001b[38;5;28mprint\u001b[39m(my_set1)\n",
      "\u001b[1;31mTypeError\u001b[0m: unhashable type: 'list'"
     ]
    }
   ],
   "source": [
    "my_set1={1,2,3,\"a\",3.6,[10,20]}\n",
    "print(my_set1)"
   ]
  },
  {
   "cell_type": "code",
   "execution_count": 57,
   "id": "e769171a-5100-48c0-8e8f-0f95d38cc485",
   "metadata": {},
   "outputs": [
    {
     "ename": "TypeError",
     "evalue": "unhashable type: 'dict'",
     "output_type": "error",
     "traceback": [
      "\u001b[1;31m---------------------------------------------------------------------------\u001b[0m",
      "\u001b[1;31mTypeError\u001b[0m                                 Traceback (most recent call last)",
      "Cell \u001b[1;32mIn[57], line 1\u001b[0m\n\u001b[1;32m----> 1\u001b[0m my_set2\u001b[38;5;241m=\u001b[39m{\u001b[38;5;241m1\u001b[39m,\u001b[38;5;241m2\u001b[39m,\u001b[38;5;241m3\u001b[39m,\u001b[38;5;124m\"\u001b[39m\u001b[38;5;124ma\u001b[39m\u001b[38;5;124m\"\u001b[39m,\u001b[38;5;241m3.6\u001b[39m,{\u001b[38;5;124m'\u001b[39m\u001b[38;5;124ma\u001b[39m\u001b[38;5;124m'\u001b[39m:\u001b[38;5;241m10\u001b[39m,\u001b[38;5;124m'\u001b[39m\u001b[38;5;124mb\u001b[39m\u001b[38;5;124m'\u001b[39m:\u001b[38;5;241m20\u001b[39m}}\n\u001b[0;32m      2\u001b[0m \u001b[38;5;28mprint\u001b[39m(my_set2)\n",
      "\u001b[1;31mTypeError\u001b[0m: unhashable type: 'dict'"
     ]
    }
   ],
   "source": [
    "my_set2={1,2,3,\"a\",3.6,{'a':10,'b':20}}\n",
    "print(my_set2)"
   ]
  },
  {
   "cell_type": "markdown",
   "id": "4ed0779e-870f-40bc-a8ac-baafa93d962f",
   "metadata": {
    "jp-MarkdownHeadingCollapsed": true
   },
   "source": [
    "# Sets PArt2"
   ]
  },
  {
   "cell_type": "markdown",
   "id": "d517cbc2-c268-4134-9727-242c28ea88c9",
   "metadata": {},
   "source": [
    "### True and 1 are consider as same value"
   ]
  },
  {
   "cell_type": "code",
   "execution_count": 3,
   "id": "11327fae-1e98-4ba0-9a87-bb0680904387",
   "metadata": {},
   "outputs": [
    {
     "name": "stdout",
     "output_type": "stream",
     "text": [
      "{False, True, 4, 5, 25, 'ball', 'animal'}\n"
     ]
    }
   ],
   "source": [
    "a={\"animal\",\"ball\",25,4,5,True,False}\n",
    "print(a)"
   ]
  },
  {
   "cell_type": "code",
   "execution_count": 4,
   "id": "d9acbb5f-3497-4213-93c1-31fee4a534d4",
   "metadata": {},
   "outputs": [
    {
     "name": "stdout",
     "output_type": "stream",
     "text": [
      "{0, 1, 4, 5, 25, 'ball', 'animal'}\n"
     ]
    }
   ],
   "source": [
    "a={\"animal\",\"ball\",25,4,5,1,0,True,False}\n",
    "print(a)"
   ]
  },
  {
   "cell_type": "markdown",
   "id": "d6c99c90-0098-4148-9a37-2e4e27329a50",
   "metadata": {},
   "source": [
    "## Nested is not property of a set"
   ]
  },
  {
   "cell_type": "code",
   "execution_count": 5,
   "id": "5d83a650-5774-4c6f-85bf-585a962bb377",
   "metadata": {},
   "outputs": [
    {
     "ename": "TypeError",
     "evalue": "unhashable type: 'set'",
     "output_type": "error",
     "traceback": [
      "\u001b[1;31m---------------------------------------------------------------------------\u001b[0m",
      "\u001b[1;31mTypeError\u001b[0m                                 Traceback (most recent call last)",
      "Cell \u001b[1;32mIn[5], line 1\u001b[0m\n\u001b[1;32m----> 1\u001b[0m a\u001b[38;5;241m=\u001b[39m{\u001b[38;5;241m1\u001b[39m,\u001b[38;5;241m2\u001b[39m,\u001b[38;5;241m3\u001b[39m,{\u001b[38;5;241m2\u001b[39m,\u001b[38;5;241m5\u001b[39m,\u001b[38;5;241m6\u001b[39m}}\n\u001b[0;32m      2\u001b[0m \u001b[38;5;28mprint\u001b[39m(a)\n",
      "\u001b[1;31mTypeError\u001b[0m: unhashable type: 'set'"
     ]
    }
   ],
   "source": [
    "a={1,2,3,{2,5,6}}\n",
    "print(a)"
   ]
  },
  {
   "cell_type": "markdown",
   "id": "2db2dc5d-dd0c-44fa-b281-66b8d3dfa869",
   "metadata": {},
   "source": [
    "## check if item is preset in the set // in"
   ]
  },
  {
   "cell_type": "code",
   "execution_count": 7,
   "id": "d447d31c-9e97-45e2-ad00-1faa77c65f81",
   "metadata": {},
   "outputs": [
    {
     "name": "stdout",
     "output_type": "stream",
     "text": [
      "True\n"
     ]
    }
   ],
   "source": [
    "a={\"data\",\"swati\",\"data\"}\n",
    "print(\"swati\" in a )"
   ]
  },
  {
   "cell_type": "code",
   "execution_count": 9,
   "id": "4a734ffb-0e22-45fa-ab29-595c1d2f6a77",
   "metadata": {},
   "outputs": [
    {
     "name": "stdout",
     "output_type": "stream",
     "text": [
      "False\n",
      "True\n"
     ]
    }
   ],
   "source": [
    "b={\"data\",\"swati\",\"data\",1,2,4}\n",
    "print(\"python\" in b )\n",
    "print(2 in b )"
   ]
  },
  {
   "cell_type": "markdown",
   "id": "60084989-b495-47ba-8ff5-48c8ed474230",
   "metadata": {},
   "source": [
    "## get the lenght of the set // len()"
   ]
  },
  {
   "cell_type": "code",
   "execution_count": 10,
   "id": "f907be00-21f5-4779-bd48-7c9fa025a827",
   "metadata": {},
   "outputs": [
    {
     "name": "stdout",
     "output_type": "stream",
     "text": [
      "11\n"
     ]
    }
   ],
   "source": [
    "a={\"animaal\",\"bat\",\"cat\",1,25,65,652,2455,155,224,8,1}\n",
    "print(len(a))\n"
   ]
  },
  {
   "cell_type": "markdown",
   "id": "f0337c51-7eba-41f0-b7b5-018953897aa8",
   "metadata": {},
   "source": [
    "## Add items in a set add() // once a set is created we cannot change the items but can only add items in the set"
   ]
  },
  {
   "cell_type": "code",
   "execution_count": 24,
   "id": "3a149e93-c1be-49b8-b8ca-dbb6d3763085",
   "metadata": {},
   "outputs": [
    {
     "name": "stdout",
     "output_type": "stream",
     "text": [
      "{1, 2, 3, 'c1', 'd1', 'b1', 'a1'}\n"
     ]
    }
   ],
   "source": [
    "a={\"a1\",\"b1\",\"c1\",1,2,3}\n",
    "a.add(\"d1\")\n",
    "print(a)"
   ]
  },
  {
   "cell_type": "markdown",
   "id": "cbc4b2c1-01a9-4788-863f-5739d92e4d2b",
   "metadata": {},
   "source": [
    "## Update() method // to combine sets"
   ]
  },
  {
   "cell_type": "code",
   "execution_count": 12,
   "id": "e002d1ba-50b0-4f4d-b678-5afb0d4381a7",
   "metadata": {},
   "outputs": [
    {
     "name": "stdout",
     "output_type": "stream",
     "text": [
      "{1, 2, 3, 4, 5, 6, 'data', 'python', 'code'}\n"
     ]
    }
   ],
   "source": [
    "x={\"data\",\"python\",\"code\"}\n",
    "y={1,2,3,4,5,6} \n",
    "x.update(y) # x ka indar update y\n",
    "print(x)"
   ]
  },
  {
   "cell_type": "markdown",
   "id": "52c8c954-7f8d-48bb-ab8f-b29154c339fc",
   "metadata": {},
   "source": [
    "## Remove items from the sets // remove()"
   ]
  },
  {
   "cell_type": "code",
   "execution_count": 14,
   "id": "32c05128-bc3b-4c3f-b0d8-c763c1100bd9",
   "metadata": {},
   "outputs": [
    {
     "name": "stdout",
     "output_type": "stream",
     "text": [
      "{35, 7, 40, 'data', 10, 'code', 14, 'science', 52, 245}\n"
     ]
    }
   ],
   "source": [
    "n={70,40,10,\"code\",\"data\",\"science\",14,52,7,245,35,70}\n",
    "n.remove(70)\n",
    "print(n)"
   ]
  },
  {
   "cell_type": "code",
   "execution_count": 15,
   "id": "4e382ab6-bd66-43d5-a4c2-6580c5a6e5a9",
   "metadata": {},
   "outputs": [
    {
     "name": "stdout",
     "output_type": "stream",
     "text": [
      "{35, 70, 7, 40, 'data', 10, 14, 'science', 52, 245}\n"
     ]
    }
   ],
   "source": [
    "n={70,40,10,\"code\",\"data\",\"science\",14,52,7,245,35,70}\n",
    "n.remove(\"code\")\n",
    "print(n)"
   ]
  },
  {
   "cell_type": "markdown",
   "id": "14beec7b-b494-4709-bf7f-0f2705c3c47d",
   "metadata": {},
   "source": [
    "## pop() method // rendomly remove any element"
   ]
  },
  {
   "cell_type": "code",
   "execution_count": 19,
   "id": "8b333e5c-171e-47b2-bb60-5961a0b249f0",
   "metadata": {},
   "outputs": [
    {
     "name": "stdout",
     "output_type": "stream",
     "text": [
      "{6, 41, 45, 15, 468, 55, 24, 445, 4862}\n",
      "35\n"
     ]
    }
   ],
   "source": [
    "a={15,45,468,4862,445,55,41,35,24,6}\n",
    "c=a.pop()\n",
    "print(a)\n",
    "print(c)"
   ]
  },
  {
   "cell_type": "code",
   "execution_count": 20,
   "id": "aa72c433-e060-4f00-9539-4aa1308fd2da",
   "metadata": {},
   "outputs": [
    {
     "name": "stdout",
     "output_type": "stream",
     "text": [
      "{4, 7, 'apple', 'code', 657, 54, 'swati'}\n",
      "67\n"
     ]
    }
   ],
   "source": [
    "x={\"code\",\"apple\",\"swati\",4,54,657,67,7}\n",
    "y=x.pop()\n",
    "print(x)\n",
    "print(y)"
   ]
  },
  {
   "cell_type": "markdown",
   "id": "7c6993dc-3b04-4b6e-bf93-e580ced13067",
   "metadata": {},
   "source": [
    "## clear() method // delete all elements from the sets"
   ]
  },
  {
   "cell_type": "code",
   "execution_count": 21,
   "id": "2753ac4c-634c-4438-b7e4-336255cd1fb3",
   "metadata": {},
   "outputs": [
    {
     "name": "stdout",
     "output_type": "stream",
     "text": [
      "set()\n"
     ]
    }
   ],
   "source": [
    "x={\"code\",\"apple\",\"swati\",4,54,657,67,7}\n",
    "x.clear()\n",
    "print(x)"
   ]
  },
  {
   "cell_type": "markdown",
   "id": "118557db-442f-41cd-9e09-db4c29634902",
   "metadata": {},
   "source": [
    "## del // delets the sets"
   ]
  },
  {
   "cell_type": "code",
   "execution_count": 22,
   "id": "5d58e6ac-dc2b-44a4-b8ef-b0eb459802a7",
   "metadata": {},
   "outputs": [
    {
     "ename": "NameError",
     "evalue": "name 'x' is not defined",
     "output_type": "error",
     "traceback": [
      "\u001b[1;31m---------------------------------------------------------------------------\u001b[0m",
      "\u001b[1;31mNameError\u001b[0m                                 Traceback (most recent call last)",
      "Cell \u001b[1;32mIn[22], line 3\u001b[0m\n\u001b[0;32m      1\u001b[0m x\u001b[38;5;241m=\u001b[39m{\u001b[38;5;124m\"\u001b[39m\u001b[38;5;124mcode\u001b[39m\u001b[38;5;124m\"\u001b[39m,\u001b[38;5;124m\"\u001b[39m\u001b[38;5;124msex\u001b[39m\u001b[38;5;124m\"\u001b[39m,\u001b[38;5;124m\"\u001b[39m\u001b[38;5;124mfuck\u001b[39m\u001b[38;5;124m\"\u001b[39m}\n\u001b[0;32m      2\u001b[0m \u001b[38;5;28;01mdel\u001b[39;00m x\n\u001b[1;32m----> 3\u001b[0m \u001b[38;5;28mprint\u001b[39m(x)\n",
      "\u001b[1;31mNameError\u001b[0m: name 'x' is not defined"
     ]
    }
   ],
   "source": [
    "x={\"code\",\"sex\",\"fuck\"}\n",
    "del x\n",
    "print(x)"
   ]
  },
  {
   "cell_type": "markdown",
   "id": "add8dfe6-ed58-48e6-844a-bbc8361ebe52",
   "metadata": {
    "jp-MarkdownHeadingCollapsed": true
   },
   "source": [
    "#  Sets Part 3"
   ]
  },
  {
   "cell_type": "markdown",
   "id": "49486e0f-81fb-4fbd-8c94-2fbd70748418",
   "metadata": {},
   "source": [
    "## Join two set *union()"
   ]
  },
  {
   "cell_type": "code",
   "execution_count": 25,
   "id": "34f38ff4-b61e-4752-87f8-fa7f548b2fb7",
   "metadata": {},
   "outputs": [
    {
     "name": "stdout",
     "output_type": "stream",
     "text": [
      "{'c', 1, 'd', 2, 3, 4, 'a', 'b'}\n"
     ]
    }
   ],
   "source": [
    "x={\"a\",\"b\",\"c\",\"d\"}\n",
    "y={1,2,3,4}\n",
    "z=x.union(y)\n",
    "print(z)\n"
   ]
  },
  {
   "cell_type": "markdown",
   "id": "eaee5955-7391-45f4-b8ca-e37bf46a336a",
   "metadata": {},
   "source": [
    "## write a python program to find the maximum and minimum values in a set// * man() *min()"
   ]
  },
  {
   "cell_type": "code",
   "execution_count": 30,
   "id": "d1ba718c-bee3-4ee7-a88d-7d7728b751d2",
   "metadata": {},
   "outputs": [
    {
     "name": "stdout",
     "output_type": "stream",
     "text": [
      "the maximum value in this set is\n",
      "87\n",
      "the minimum value in this set is 5\n",
      "5\n"
     ]
    }
   ],
   "source": [
    "sets={5,68,87,26,13,15,7}\n",
    "print(\"the maximum value in this set is\")\n",
    "print(max(sets))\n",
    "print(\"the minimum value in this set is\", min(sets))\n",
    "print(min(sets))"
   ]
  },
  {
   "cell_type": "markdown",
   "id": "2c26fc9a-6a99-4c23-8b7e-6c11e34ce6e7",
   "metadata": {},
   "source": [
    "## set Operation"
   ]
  },
  {
   "cell_type": "code",
   "execution_count": 60,
   "id": "bedf8b24-9d1f-44d8-a111-c681aa034685",
   "metadata": {},
   "outputs": [
    {
     "name": "stdout",
     "output_type": "stream",
     "text": [
      "{1, 2, 3, 4, 5, 6}\n"
     ]
    }
   ],
   "source": [
    "set1={1,2,3}\n",
    "set2={3,4,5,6}\n",
    "union_set=set1.union(set2)\n",
    "print(union_set)"
   ]
  },
  {
   "cell_type": "markdown",
   "id": "13ea92e4-ecf6-416f-a782-dccfb3f7a84c",
   "metadata": {},
   "source": [
    "## intersection mrthod"
   ]
  },
  {
   "cell_type": "code",
   "execution_count": 35,
   "id": "6721cbce-70ae-4bd9-86b0-ba118e34f4c3",
   "metadata": {},
   "outputs": [
    {
     "name": "stdout",
     "output_type": "stream",
     "text": [
      "{24, 45, 23}\n"
     ]
    }
   ],
   "source": [
    "set1={52,32,23}\n",
    "set2={23,45,24}\n",
    "inter = set1.intersection(set2)\n",
    "print(set2)"
   ]
  },
  {
   "cell_type": "markdown",
   "id": "619c517c-ceac-4ce3-a4f8-ce0ec87e6930",
   "metadata": {},
   "source": [
    "## Difference() method// gives the whole anyone set excet the commen"
   ]
  },
  {
   "cell_type": "code",
   "execution_count": 41,
   "id": "64cf2301-225b-41f7-b712-f43ad3cb7bbe",
   "metadata": {},
   "outputs": [
    {
     "name": "stdout",
     "output_type": "stream",
     "text": [
      "{1, 2}\n",
      "{4, 5}\n"
     ]
    }
   ],
   "source": [
    "set1={1,2,3}\n",
    "set2={3,4,5}\n",
    "print(diff1)\n",
    "\n",
    "diff1 = set1.difference(set2)\n",
    "\n",
    "diff2 =set2.difference(set1)\n",
    "print(diff2)"
   ]
  },
  {
   "cell_type": "markdown",
   "id": "d3902358-b09b-4c8c-ad90-b260b6a74a89",
   "metadata": {
    "jp-MarkdownHeadingCollapsed": true
   },
   "source": [
    "# Question"
   ]
  },
  {
   "cell_type": "code",
   "execution_count": 54,
   "id": "f4b1b9fc-db55-45cd-bcce-8730f1615873",
   "metadata": {
    "scrolled": true
   },
   "outputs": [
    {
     "name": "stdout",
     "output_type": "stream",
     "text": [
      "the number of students passed in both 5\n",
      "the students who only paassed in maths {9, 3}\n",
      "the students who only paassed in science {5, 6, 7}\n"
     ]
    }
   ],
   "source": [
    "students_passed_maths={1,2,3,4,8,9,10}\n",
    "students_passed_science={1,2,4,5,6,8,7,10}\n",
    "print(\"the number of students passed in both\", len(students_passed_maths.intersection(students_passed_science)))\n",
    "print(\"the students who only paassed in maths\", students_passed_maths.difference(students_passed_science))\n",
    "print(\"the students who only paassed in science\", students_passed_science.difference(students_passed_maths))\n",
    "\n"
   ]
  },
  {
   "cell_type": "markdown",
   "id": "219ace55-b18b-4ec7-9857-869cd246705b",
   "metadata": {},
   "source": [
    "### issubset and issuperset"
   ]
  },
  {
   "cell_type": "code",
   "execution_count": 56,
   "id": "8df1867c-235a-41e5-a2fb-22e1e380a43d",
   "metadata": {},
   "outputs": [
    {
     "name": "stdout",
     "output_type": "stream",
     "text": [
      "is students passed in maths is a subset of students passed in science False\n"
     ]
    }
   ],
   "source": [
    "sub=students_passed_maths.issubset(students_passed_science)\n",
    "print(\"is students passed in maths is a subset of students passed in science\",sub)"
   ]
  },
  {
   "cell_type": "code",
   "execution_count": 58,
   "id": "c2c6ea14-5d42-42ec-8224-97c671e500fe",
   "metadata": {},
   "outputs": [
    {
     "name": "stdout",
     "output_type": "stream",
     "text": [
      "is students passed in sc is a superset of students passed in science False\n"
     ]
    }
   ],
   "source": [
    "sub1=students_passed_maths.issuperset(students_passed_science)\n",
    "print(\"is students passed in sc is a superset of students passed in science\",sub1)"
   ]
  },
  {
   "cell_type": "markdown",
   "id": "d39b5831-8a6c-4b9f-86c9-a041e44f0fc6",
   "metadata": {
    "jp-MarkdownHeadingCollapsed": true
   },
   "source": [
    "# Dictionary part 1"
   ]
  },
  {
   "cell_type": "markdown",
   "id": "a29b66e2-1743-40aa-8e70-1e4529ceec3a",
   "metadata": {},
   "source": [
    "## Efficient Data Retrieval , Storing Meta Data, Grouping and Aggregating Data"
   ]
  },
  {
   "cell_type": "markdown",
   "id": "ca1ff4b2-bb4b-4001-8439-3fd7bb4b85e6",
   "metadata": {},
   "source": [
    "## Creating a simple dictonary"
   ]
  },
  {
   "cell_type": "code",
   "execution_count": 4,
   "id": "0e32a934-c5de-4fda-890e-44c41d1ce4f2",
   "metadata": {},
   "outputs": [
    {
     "name": "stdout",
     "output_type": "stream",
     "text": [
      "{'name': 'sumit', 'age': 22, 'city': 'ghy'}\n",
      "<class 'dict'>\n"
     ]
    }
   ],
   "source": [
    "person={\n",
    "    'name':\"sumit\",\n",
    "    'age':22,\n",
    "    'city':\"ghy\"\n",
    "}\n",
    "print(person)\n",
    "print(type(person))"
   ]
  },
  {
   "cell_type": "markdown",
   "id": "59f2b407-2d40-4e1b-b8e9-7887b690df0c",
   "metadata": {},
   "source": [
    "## Hetrogenous // mixed dictonary diff data type"
   ]
  },
  {
   "cell_type": "code",
   "execution_count": 9,
   "id": "7863ccf2-098e-484c-b544-29c11988c129",
   "metadata": {},
   "outputs": [
    {
     "name": "stdout",
     "output_type": "stream",
     "text": [
      "{'name': 'Bob', 'age': 25, 'is_Student': True, 'course': ['maths ', 'physics', 'chemestry'], 'address': {'street': 'delhi', 'zipcode': 12345}}\n",
      "<class 'dict'>\n"
     ]
    }
   ],
   "source": [
    "mixed_dict={\n",
    "    'name':\"Bob\",\n",
    "    'age':25,\n",
    "    'is_Student': True,\n",
    "    'course': [\"maths \",\"physics\",\"chemestry\"],\n",
    "    'address': {\n",
    "        'street':\"delhi\",\n",
    "        'zipcode':12345}}\n",
    "print(mixed_dict)\n",
    "print(type(mixed_dict))"
   ]
  },
  {
   "cell_type": "markdown",
   "id": "6d3636f3-a396-4eea-9e22-63ecdec3766d",
   "metadata": {},
   "source": [
    "## Empty Dictonary"
   ]
  },
  {
   "cell_type": "code",
   "execution_count": 11,
   "id": "0124f01c-e04a-4ca9-ae32-8c45b5437f50",
   "metadata": {},
   "outputs": [
    {
     "name": "stdout",
     "output_type": "stream",
     "text": [
      "{}\n",
      "<class 'dict'>\n"
     ]
    }
   ],
   "source": [
    "empty={}\n",
    "print(empty)\n",
    "print(type(empty))"
   ]
  },
  {
   "cell_type": "markdown",
   "id": "53dfd722-8e3a-43d2-8bbe-efdb8a89b4f5",
   "metadata": {},
   "source": [
    "## Dict Constuctor"
   ]
  },
  {
   "cell_type": "code",
   "execution_count": 13,
   "id": "2549e806-ec8f-4d70-b48c-f61126c8eca2",
   "metadata": {},
   "outputs": [
    {
     "name": "stdout",
     "output_type": "stream",
     "text": [
      "{'name': 'swati', 'age': '25', 'city': 'mumbai'}\n",
      "<class 'dict'>\n"
     ]
    }
   ],
   "source": [
    "person = dict(name=\"swati\",age=\"25\",city=\"mumbai\")\n",
    "print(person)\n",
    "print(type(person))"
   ]
  },
  {
   "cell_type": "markdown",
   "id": "9825e94d-a818-48ac-8b38-26967f378137",
   "metadata": {},
   "source": [
    "## Dictonary Comprehension"
   ]
  },
  {
   "cell_type": "code",
   "execution_count": 14,
   "id": "ab831cf9-44ca-49b2-a063-8b954b88cd68",
   "metadata": {},
   "outputs": [
    {
     "name": "stdout",
     "output_type": "stream",
     "text": [
      "{0: 0, 1: 1, 2: 4, 3: 9, 4: 16, 5: 25}\n"
     ]
    }
   ],
   "source": [
    "squares ={ x: x*x for x in range(6)}\n",
    "print(squares)"
   ]
  },
  {
   "cell_type": "markdown",
   "id": "91713dc2-ac9e-4870-b286-00649cfc8dcc",
   "metadata": {},
   "source": [
    "## Question"
   ]
  },
  {
   "cell_type": "code",
   "execution_count": 61,
   "id": "0ed03709-a197-4ee1-b25c-c1d2003a2131",
   "metadata": {},
   "outputs": [
    {
     "name": "stdin",
     "output_type": "stream",
     "text": [
      "Enter the number of items 3\n",
      "enter the id of the product 1 1\n",
      "Enter product Name sum\n",
      "enter the id of the product 2 2\n",
      "Enter product Name diff\n",
      "enter the id of the product 3 3\n",
      "Enter product Name mul\n"
     ]
    },
    {
     "name": "stdout",
     "output_type": "stream",
     "text": [
      "{1: 'sum', 2: 'diff', 3: 'mul'}\n"
     ]
    }
   ],
   "source": [
    "number=int(input(\"Enter the number of items\"))\n",
    "products={}\n",
    "if number < 3:\n",
    "    print(\"more items req\")\n",
    "else:\n",
    "    for i in range(1,number+1):\n",
    "        product_id=int(input(f\"enter the id of the product {i}\"))\n",
    "        product_value=input(\"Enter product Name\")\n",
    "        products[product_id]=product_value\n",
    "\n",
    "print(products)"
   ]
  },
  {
   "cell_type": "markdown",
   "id": "996e21fa-ef87-47cf-a34f-528f7838dd84",
   "metadata": {
    "jp-MarkdownHeadingCollapsed": true
   },
   "source": [
    "# Dictionary Part 2"
   ]
  },
  {
   "cell_type": "markdown",
   "id": "100de274-24e4-4557-bfe9-0409174c6632",
   "metadata": {},
   "source": [
    "## Characterstics of the dictionary"
   ]
  },
  {
   "cell_type": "markdown",
   "id": "7e3fe672-a549-4c80-8a26-845facec74d0",
   "metadata": {},
   "source": [
    "### Asessing vaLUES USING keys"
   ]
  },
  {
   "cell_type": "code",
   "execution_count": 48,
   "id": "eee2d96a-53f7-4b15-8fa0-2c8f48df0503",
   "metadata": {},
   "outputs": [
    {
     "name": "stdout",
     "output_type": "stream",
     "text": [
      "swati\n"
     ]
    }
   ],
   "source": [
    "person={\n",
    "    'name':\"swati\",\n",
    "    'age':30,\n",
    "    'city':\"neyyork\"\n",
    "}\n",
    "print(person['name'])"
   ]
  },
  {
   "cell_type": "code",
   "execution_count": 47,
   "id": "ce800c16-20e4-456b-b7f0-3dc1f595d0c6",
   "metadata": {},
   "outputs": [
    {
     "name": "stdout",
     "output_type": "stream",
     "text": [
      "30\n"
     ]
    }
   ],
   "source": [
    "print(person['age'])\n"
   ]
  },
  {
   "cell_type": "markdown",
   "id": "eea52c5f-d793-450f-878a-35ea87b9e7d1",
   "metadata": {},
   "source": [
    "### first dictionary was not ordered later ,Dictionary was orderd"
   ]
  },
  {
   "cell_type": "code",
   "execution_count": 51,
   "id": "66ef15e5-dc6a-4387-91a6-1242d932a0eb",
   "metadata": {},
   "outputs": [
    {
     "name": "stdout",
     "output_type": "stream",
     "text": [
      "{'name': 'swati', 'age': 30, 'city': 'neyyork'}\n"
     ]
    }
   ],
   "source": [
    "person={\n",
    "    'name':\"swati\",\n",
    "    'age':30,\n",
    "    'city':\"neyyork\"\n",
    "}\n",
    "print(person)"
   ]
  },
  {
   "cell_type": "code",
   "execution_count": 52,
   "id": "e3b078dc-9391-468b-a660-0908da78d0d6",
   "metadata": {},
   "outputs": [
    {
     "name": "stdout",
     "output_type": "stream",
     "text": [
      "{'name': 'neyyork', 'age': 30}\n"
     ]
    }
   ],
   "source": [
    "person={\n",
    "    'name':\"swati\",\n",
    "    'age':30,\n",
    "    'name':\"neyyork\"\n",
    "}\n",
    "print(person)"
   ]
  },
  {
   "cell_type": "markdown",
   "id": "a6c93a3c-ec01-4617-a109-601e305c2b21",
   "metadata": {},
   "source": [
    "## Flexibly key types"
   ]
  },
  {
   "cell_type": "markdown",
   "id": "25a4e908-d1c1-43c8-a706-39c3c9701402",
   "metadata": {},
   "source": [
    "### keys in dictionary must be unique ,they can of various data types , including strings, integers , floats , and tuple(if they contain only hashable objects(list and dicitionary).\n"
   ]
  },
  {
   "cell_type": "code",
   "execution_count": 54,
   "id": "4d6523de-6a29-4690-91fb-abacffdd9e0a",
   "metadata": {},
   "outputs": [],
   "source": [
    "data={\n",
    "    'name':'john',\n",
    "    123:\"integer key \",\n",
    "    (1,2): \"tuple key\",\n",
    "    3.6:'float key',\n",
    "    \n",
    "}"
   ]
  },
  {
   "cell_type": "code",
   "execution_count": 55,
   "id": "c4275fb9-ed18-4585-bd7b-a1e3e6575858",
   "metadata": {},
   "outputs": [
    {
     "name": "stdout",
     "output_type": "stream",
     "text": [
      "{'name': 'john', 123: 'integer key ', (1, 2): 'tuple key', 3.6: 'float key'}\n"
     ]
    }
   ],
   "source": [
    "print(data)"
   ]
  },
  {
   "cell_type": "raw",
   "id": "48de872b-563d-46f5-96e9-ff9aca3b1f7f",
   "metadata": {},
   "source": [
    "list and dictionary cannot be taken as data type in dict"
   ]
  },
  {
   "cell_type": "code",
   "execution_count": 58,
   "id": "471a30cf-fa34-407e-baf1-f0eb4c45b441",
   "metadata": {},
   "outputs": [
    {
     "ename": "TypeError",
     "evalue": "unhashable type: 'list'",
     "output_type": "error",
     "traceback": [
      "\u001b[1;31m---------------------------------------------------------------------------\u001b[0m",
      "\u001b[1;31mTypeError\u001b[0m                                 Traceback (most recent call last)",
      "Cell \u001b[1;32mIn[58], line 1\u001b[0m\n\u001b[1;32m----> 1\u001b[0m data\u001b[38;5;241m=\u001b[39m{\n\u001b[0;32m      2\u001b[0m     \u001b[38;5;124m'\u001b[39m\u001b[38;5;124mname\u001b[39m\u001b[38;5;124m'\u001b[39m:\u001b[38;5;124m'\u001b[39m\u001b[38;5;124mjohn\u001b[39m\u001b[38;5;124m'\u001b[39m,\n\u001b[0;32m      3\u001b[0m     \u001b[38;5;241m123\u001b[39m:\u001b[38;5;124m\"\u001b[39m\u001b[38;5;124minteger key \u001b[39m\u001b[38;5;124m\"\u001b[39m,\n\u001b[0;32m      4\u001b[0m     (\u001b[38;5;241m1\u001b[39m,\u001b[38;5;241m2\u001b[39m): \u001b[38;5;124m\"\u001b[39m\u001b[38;5;124mtuple key\u001b[39m\u001b[38;5;124m\"\u001b[39m,\n\u001b[0;32m      5\u001b[0m     \u001b[38;5;241m3.6\u001b[39m:\u001b[38;5;124m'\u001b[39m\u001b[38;5;124mfloat key\u001b[39m\u001b[38;5;124m'\u001b[39m,\n\u001b[0;32m      6\u001b[0m     [\u001b[38;5;241m1\u001b[39m,\u001b[38;5;241m2\u001b[39m,\u001b[38;5;241m3\u001b[39m]:\u001b[38;5;124m\"\u001b[39m\u001b[38;5;124mlist\u001b[39m\u001b[38;5;124m\"\u001b[39m\n\u001b[0;32m      7\u001b[0m }\n\u001b[0;32m      8\u001b[0m \u001b[38;5;28mprint\u001b[39m(data)\n",
      "\u001b[1;31mTypeError\u001b[0m: unhashable type: 'list'"
     ]
    }
   ],
   "source": [
    "data={\n",
    "    'name':'john',\n",
    "    123:\"integer key \",\n",
    "    (1,2): \"tuple key\",\n",
    "    3.6:'float key',\n",
    "    [1,2,3]:\"list\"\n",
    "}\n",
    "print(data)\n",
    "    "
   ]
  },
  {
   "cell_type": "code",
   "execution_count": 63,
   "id": "3c1c53e3-b119-4964-875f-900f800885c9",
   "metadata": {},
   "outputs": [
    {
     "ename": "TypeError",
     "evalue": "unhashable type: 'dict'",
     "output_type": "error",
     "traceback": [
      "\u001b[1;31m---------------------------------------------------------------------------\u001b[0m",
      "\u001b[1;31mTypeError\u001b[0m                                 Traceback (most recent call last)",
      "Cell \u001b[1;32mIn[63], line 1\u001b[0m\n\u001b[1;32m----> 1\u001b[0m data\u001b[38;5;241m=\u001b[39m{\n\u001b[0;32m      2\u001b[0m     \u001b[38;5;124m'\u001b[39m\u001b[38;5;124mname\u001b[39m\u001b[38;5;124m'\u001b[39m:\u001b[38;5;124m'\u001b[39m\u001b[38;5;124mjohn\u001b[39m\u001b[38;5;124m'\u001b[39m,\n\u001b[0;32m      3\u001b[0m     \u001b[38;5;241m123\u001b[39m:\u001b[38;5;124m\"\u001b[39m\u001b[38;5;124minteger key \u001b[39m\u001b[38;5;124m\"\u001b[39m,\n\u001b[0;32m      4\u001b[0m     (\u001b[38;5;241m1\u001b[39m,\u001b[38;5;241m2\u001b[39m): \u001b[38;5;124m\"\u001b[39m\u001b[38;5;124mtuple key\u001b[39m\u001b[38;5;124m\"\u001b[39m,\n\u001b[0;32m      5\u001b[0m     \u001b[38;5;241m3.6\u001b[39m:\u001b[38;5;124m'\u001b[39m\u001b[38;5;124mfloat key\u001b[39m\u001b[38;5;124m'\u001b[39m,\n\u001b[0;32m      6\u001b[0m     { \u001b[38;5;124m'\u001b[39m\u001b[38;5;124mage\u001b[39m\u001b[38;5;124m'\u001b[39m:\u001b[38;5;241m30\u001b[39m,\u001b[38;5;124m'\u001b[39m\u001b[38;5;124mcity\u001b[39m\u001b[38;5;124m'\u001b[39m:\u001b[38;5;124m\"\u001b[39m\u001b[38;5;124mmumbai\u001b[39m\u001b[38;5;124m\"\u001b[39m,}:\u001b[38;5;124m\"\u001b[39m\u001b[38;5;124mlist\u001b[39m\u001b[38;5;124m\"\u001b[39m\n\u001b[0;32m      7\u001b[0m }\n\u001b[0;32m      8\u001b[0m \u001b[38;5;28mprint\u001b[39m(data)\n",
      "\u001b[1;31mTypeError\u001b[0m: unhashable type: 'dict'"
     ]
    }
   ],
   "source": [
    "data={\n",
    "    'name':'john',\n",
    "    123:\"integer key \",\n",
    "    (1,2): \"tuple key\",\n",
    "    3.6:'float key',\n",
    "    { 'age':30,'city':\"mumbai\",}:\"list\"\n",
    "}\n",
    "print(data)\n",
    "    "
   ]
  },
  {
   "cell_type": "markdown",
   "id": "1a22350a-5609-41d6-b7b2-5419cbb5e525",
   "metadata": {},
   "source": [
    "## Dublicates are not allowed"
   ]
  },
  {
   "cell_type": "code",
   "execution_count": 65,
   "id": "3e4f49b1-8043-41a5-b50f-0a49c29bbbc5",
   "metadata": {},
   "outputs": [
    {
     "name": "stdout",
     "output_type": "stream",
     "text": [
      "{'ID': '1132f', 'colour': 'red', 'year': 2546}\n"
     ]
    }
   ],
   "source": [
    "dict={\n",
    "    'ID':\"1132f\",\n",
    "    'colour':\"red\",\n",
    "    'year':1654,\n",
    "    'year':2546,\n",
    "}\n",
    "print(dict)"
   ]
  },
  {
   "cell_type": "markdown",
   "id": "28392676-d452-4d0d-aca3-fcd50ced3d3c",
   "metadata": {},
   "source": [
    "# Dictionary PArt 3"
   ]
  },
  {
   "cell_type": "markdown",
   "id": "9c16daf7-131e-4d12-9eeb-495066cddc94",
   "metadata": {
    "jp-MarkdownHeadingCollapsed": true
   },
   "source": [
    "## Memebership Testing // use 'in' keywords only can be used in key and not value"
   ]
  },
  {
   "cell_type": "code",
   "execution_count": null,
   "id": "39ad8332-1703-44fe-92f9-7b85133d6d1b",
   "metadata": {},
   "outputs": [],
   "source": [
    "person={\n",
    "    'name':\"Swati\",\n",
    "    'age':25,\n",
    "    \"city\":\"delhi\",\n",
    "}\n"
   ]
  },
  {
   "cell_type": "code",
   "execution_count": 66,
   "id": "eb1872d4-d92f-4fd6-9a8a-e5d1012451a0",
   "metadata": {},
   "outputs": [
    {
     "name": "stdout",
     "output_type": "stream",
     "text": [
      "True\n"
     ]
    }
   ],
   "source": [
    "print (\"name\" in person)"
   ]
  },
  {
   "cell_type": "code",
   "execution_count": 67,
   "id": "fea6ce53-01c7-423d-9ad4-73b715853410",
   "metadata": {},
   "outputs": [
    {
     "name": "stdout",
     "output_type": "stream",
     "text": [
      "False\n"
     ]
    }
   ],
   "source": [
    "print (\"email\" in person)"
   ]
  },
  {
   "cell_type": "code",
   "execution_count": 68,
   "id": "913104a4-ef57-410d-b981-6f59c965f62c",
   "metadata": {},
   "outputs": [
    {
     "name": "stdout",
     "output_type": "stream",
     "text": [
      "False\n"
     ]
    }
   ],
   "source": [
    "print (\"Swati\" in person)"
   ]
  },
  {
   "cell_type": "markdown",
   "id": "152f7468-f4a1-4791-b3f3-fdcdf93c6d03",
   "metadata": {
    "jp-MarkdownHeadingCollapsed": true
   },
   "source": [
    "## Nested Dictionary"
   ]
  },
  {
   "cell_type": "code",
   "execution_count": 72,
   "id": "5664a482-95b3-4cf0-8c8b-5f84bcf92a9b",
   "metadata": {},
   "outputs": [
    {
     "name": "stdout",
     "output_type": "stream",
     "text": [
      "{'emp1': {'name': 'Alice', 'age': 25}, 'emp2': {'name': 'Priya', 'age': 25}}\n"
     ]
    }
   ],
   "source": [
    "employee={\n",
    "    \"emp1\":{\n",
    "        \"name\":\"Alice\",\n",
    "        \"age\":25,},\n",
    "    \"emp2\":{\n",
    "        \"name\":\"Priya\",\n",
    "        \"age\":25,},\n",
    "}\n",
    "print(employee)"
   ]
  },
  {
   "cell_type": "code",
   "execution_count": 73,
   "id": "bc5820f8-3834-43b9-bf9d-97a43fcc5a60",
   "metadata": {},
   "outputs": [
    {
     "name": "stdout",
     "output_type": "stream",
     "text": [
      "{'name': 'Alice', 'age': 25}\n"
     ]
    }
   ],
   "source": [
    "print(employee[\"emp1\"])"
   ]
  },
  {
   "cell_type": "markdown",
   "id": "32818637-7f3f-4d78-9c33-3661b5c12987",
   "metadata": {
    "jp-MarkdownHeadingCollapsed": true
   },
   "source": [
    "# Question"
   ]
  },
  {
   "cell_type": "code",
   "execution_count": 75,
   "id": "76ce588b-e988-485f-8743-d70d99e737ef",
   "metadata": {},
   "outputs": [
    {
     "name": "stdout",
     "output_type": "stream",
     "text": [
      "{'Python Programming': 4.5, 'Data Science Handbook': 4.8, 'Machine Learning BAsics': 4.2}\n",
      "Found\n",
      "['Python Programming', 'Data Science Handbook', 'Machine Learning BAsics']\n"
     ]
    }
   ],
   "source": [
    "book_rating={\n",
    "    \"Python Programming\":4.5,\n",
    "    \"Data Science Handbook\":4.8,\n",
    "    \"Machine Learning BAsics\":4.2,\n",
    "}\n",
    "print(book_rating)\n",
    "if  \"Python Programming\" in book_rating:\n",
    "    print(\"Found\")\n",
    "else:\n",
    "    print(\"Not Found\")\n",
    "\n",
    "a=list(book_rating)\n",
    "print(a)\n"
   ]
  },
  {
   "cell_type": "code",
   "execution_count": 77,
   "id": "339802bf-2b6f-42e8-ae86-7e230af5de91",
   "metadata": {},
   "outputs": [
    {
     "name": "stdout",
     "output_type": "stream",
     "text": [
      "Fruit apple Stock 10\n",
      "Fruit banana Stock 15\n",
      "Fruit orange Stock 8\n",
      "Fruit grape Stock 20\n"
     ]
    }
   ],
   "source": [
    "fruit_stock={\n",
    "    'apple':10,\n",
    "    'banana':15,\n",
    "    'orange':8,\n",
    "    'grape':20,\n",
    "}\n",
    "for i in fruit_stock:\n",
    "    print(\"Fruit\", i , \"Stock\", fruit_stock[i])\n",
    "    "
   ]
  },
  {
   "cell_type": "markdown",
   "id": "f8c72bef-a2a8-44cd-87c2-2d9057a45474",
   "metadata": {},
   "source": [
    "# Dictionary PArt 4"
   ]
  },
  {
   "cell_type": "markdown",
   "id": "a12f0f96-0dfb-44ea-9a44-c6bcb9deb55a",
   "metadata": {
    "jp-MarkdownHeadingCollapsed": true
   },
   "source": [
    "##  dictionary length len() method"
   ]
  },
  {
   "cell_type": "code",
   "execution_count": 1,
   "id": "602eba1c-de33-471f-afc4-5b927cd85f1b",
   "metadata": {},
   "outputs": [
    {
     "name": "stdout",
     "output_type": "stream",
     "text": [
      "3\n"
     ]
    }
   ],
   "source": [
    "dict={\"ID\": 1355445,\n",
    "      \"colour\":\"red\",\n",
    "      \"year\": 1917}\n",
    "\n",
    "\n",
    "print(len(dict))"
   ]
  },
  {
   "cell_type": "markdown",
   "id": "4f53cff9-498f-4c86-be9e-eee1e4e3b354",
   "metadata": {},
   "source": [
    "## Get keys Mthod"
   ]
  },
  {
   "cell_type": "code",
   "execution_count": 82,
   "id": "9e67c199-28a8-49db-a621-8b91fb533efa",
   "metadata": {},
   "outputs": [
    {
     "name": "stdout",
     "output_type": "stream",
     "text": [
      "dict_keys(['ID', 'colour', 'year'])\n",
      "<class 'dict_keys'>\n"
     ]
    }
   ],
   "source": [
    "dict={\"ID\": 1355445,\n",
    "      \"colour\":\"red\",\n",
    "      \"year\": 1917}\n",
    "\n",
    "x=dict.keys()\n",
    "print(x)\n",
    "print(type(x))\n"
   ]
  },
  {
   "cell_type": "markdown",
   "id": "1f909549-15ef-46c6-bbc1-98e4a727abb4",
   "metadata": {},
   "source": [
    "## Get values Mthod"
   ]
  },
  {
   "cell_type": "code",
   "execution_count": 83,
   "id": "1b35f31c-0d2a-44b6-94f5-cbcd98658cd1",
   "metadata": {},
   "outputs": [
    {
     "name": "stdout",
     "output_type": "stream",
     "text": [
      "dict_values([1355445, 'red', 1917])\n",
      "<class 'dict_values'>\n"
     ]
    }
   ],
   "source": [
    "dict={\"ID\": 1355445,\n",
    "      \"colour\":\"red\",\n",
    "      \"year\": 1917}\n",
    "\n",
    "x=dict.values()\n",
    "print(x)\n",
    "print(type(x))\n"
   ]
  },
  {
   "cell_type": "markdown",
   "id": "31eab591-8cc1-407f-b5d3-17830853e7ae",
   "metadata": {},
   "source": [
    "## change the values"
   ]
  },
  {
   "cell_type": "code",
   "execution_count": 86,
   "id": "551dd310-5ac9-45ef-811d-4ebd2c3c49ef",
   "metadata": {},
   "outputs": [
    {
     "name": "stdout",
     "output_type": "stream",
     "text": [
      "1917\n",
      "1972\n"
     ]
    }
   ],
   "source": [
    "dict={\"ID\": 1355445,\n",
    "      \"colour\":\"red\",\n",
    "      \"year\": 1917\n",
    "     }\n",
    "print(dict['year'])\n",
    "\n",
    "\n",
    "dict['year']=1972\n",
    "\n",
    "\n",
    "print(dict['year'])"
   ]
  },
  {
   "cell_type": "markdown",
   "id": "f55288c4-be0e-458f-923d-53c343568ef1",
   "metadata": {},
   "source": [
    "## Add items in dictionary "
   ]
  },
  {
   "cell_type": "code",
   "execution_count": 90,
   "id": "a614b91a-4630-404e-a02e-19fb0555c97e",
   "metadata": {},
   "outputs": [
    {
     "name": "stdout",
     "output_type": "stream",
     "text": [
      "{'name': 'Alice', 'age': 25}\n",
      "{'name': 'Alice', 'age': 25, 'city': 'New Delhi', 'email id ': 'alie@123gmailcom'}\n"
     ]
    }
   ],
   "source": [
    "person={\n",
    "    \"name\":\"Alice\",\n",
    "    \"age\":25\n",
    "}\n",
    "print(person)\n",
    "\n",
    "person['city']=\"New Delhi\"\n",
    "person[\"email id \"]=\"alie@123gmailcom\"\n",
    "print(person)"
   ]
  },
  {
   "cell_type": "markdown",
   "id": "641a8945-4f92-4d13-a6b3-e1e0eeb51d4b",
   "metadata": {},
   "source": [
    "### Update({}) method"
   ]
  },
  {
   "cell_type": "code",
   "execution_count": 94,
   "id": "4c4fb01a-2139-447d-80f6-a08cdd95027f",
   "metadata": {},
   "outputs": [
    {
     "name": "stdout",
     "output_type": "stream",
     "text": [
      "{'name': 'Alice', 'age': 25, 'country': 'pune', 'gender': 'Male'}\n"
     ]
    }
   ],
   "source": [
    "person={\n",
    "    \"name\":\"Alice\",\n",
    "    \"age\":25 ,\n",
    "    \"country\":\"pune\",\n",
    "    \"gender\":\"Male\"\n",
    "}\n",
    "print(person)\n"
   ]
  },
  {
   "cell_type": "code",
   "execution_count": 95,
   "id": "888f22ec-54fd-4dfd-9b97-cdc1ff39c35b",
   "metadata": {},
   "outputs": [
    {
     "name": "stdout",
     "output_type": "stream",
     "text": [
      "{'name': 'Alice', 'age': 25, 'country': 'pune', 'gender': 'Male', 'phone number': 5546546655555}\n"
     ]
    }
   ],
   "source": [
    "person.update({\"phone number\" : 5546546655555})\n",
    "\n",
    "print(person)"
   ]
  },
  {
   "cell_type": "code",
   "execution_count": 97,
   "id": "1e023caf-61ec-4d28-a804-04773af6b4fc",
   "metadata": {},
   "outputs": [
    {
     "name": "stdout",
     "output_type": "stream",
     "text": [
      "{'name': 'Alice', 'age': 25, 'country': 'pune', 'gender': 'Male', 'phone number': 5546546655555, 'email id': 'alice@gmail.com', 'adhar mnumber': 986655555}\n"
     ]
    }
   ],
   "source": [
    "person.update({\"email id\" : \"alice@gmail.com\",\"adhar mnumber\": 986655555})\n",
    "print(person)"
   ]
  },
  {
   "cell_type": "markdown",
   "id": "3ea78b2d-79ec-4db3-b83e-991f1577d3de",
   "metadata": {},
   "source": [
    "## Remove itmes from the dictionary"
   ]
  },
  {
   "cell_type": "markdown",
   "id": "cd3ef3f3-2be3-474d-81df-8d5e78c1efcd",
   "metadata": {},
   "source": [
    "### pop() method"
   ]
  },
  {
   "cell_type": "code",
   "execution_count": null,
   "id": "0140caaf-3e6b-481e-b198-23e58bdf4899",
   "metadata": {},
   "outputs": [],
   "source": [
    "a={'name': 'Alice', 'age': 25, 'country': 'pune', 'gender': 'Male', 'phone number': 5546546655555, 'email id': 'alice@gmail.com', 'adhar mnumber': 986655555}"
   ]
  },
  {
   "cell_type": "code",
   "execution_count": null,
   "id": "721a8a79-a4e4-4ef4-9cc9-c727f5d5ce95",
   "metadata": {},
   "outputs": [],
   "source": [
    "print(a)"
   ]
  },
  {
   "cell_type": "code",
   "execution_count": 105,
   "id": "f84f1a31-3cff-4f62-a34f-c1e37f535c2d",
   "metadata": {},
   "outputs": [
    {
     "ename": "KeyError",
     "evalue": "'age'",
     "output_type": "error",
     "traceback": [
      "\u001b[1;31m---------------------------------------------------------------------------\u001b[0m",
      "\u001b[1;31mKeyError\u001b[0m                                  Traceback (most recent call last)",
      "Cell \u001b[1;32mIn[105], line 1\u001b[0m\n\u001b[1;32m----> 1\u001b[0m a\u001b[38;5;241m.\u001b[39mpop(\u001b[38;5;124m'\u001b[39m\u001b[38;5;124mage\u001b[39m\u001b[38;5;124m'\u001b[39m)\n\u001b[0;32m      2\u001b[0m \u001b[38;5;28mprint\u001b[39m(a)\n",
      "\u001b[1;31mKeyError\u001b[0m: 'age'"
     ]
    }
   ],
   "source": [
    "a.pop('age')\n",
    "print(a)"
   ]
  },
  {
   "cell_type": "markdown",
   "id": "bbda19f7-1b09-4af5-8d79-a9bf26dc87ba",
   "metadata": {},
   "source": [
    "### del method"
   ]
  },
  {
   "cell_type": "code",
   "execution_count": 106,
   "id": "00689fe4-09e4-4961-a41a-943fe9181e10",
   "metadata": {},
   "outputs": [
    {
     "name": "stdout",
     "output_type": "stream",
     "text": [
      "{'name': 'Alice', 'country': 'pune', 'phone number': 5546546655555, 'email id': 'alice@gmail.com', 'adhar mnumber': 986655555}\n"
     ]
    }
   ],
   "source": [
    "a={'name': 'Alice', 'age': 25, 'country': 'pune', 'gender': 'Male', 'phone number': 5546546655555, 'email id': 'alice@gmail.com', 'adhar mnumber': 986655555}\n",
    "del a[\"age\"],a[\"gender\"]\n",
    "print(a)"
   ]
  },
  {
   "cell_type": "code",
   "execution_count": 107,
   "id": "c82756d9-6e32-453d-b1e2-9d060b60b85e",
   "metadata": {},
   "outputs": [
    {
     "ename": "NameError",
     "evalue": "name 'a' is not defined",
     "output_type": "error",
     "traceback": [
      "\u001b[1;31m---------------------------------------------------------------------------\u001b[0m",
      "\u001b[1;31mNameError\u001b[0m                                 Traceback (most recent call last)",
      "Cell \u001b[1;32mIn[107], line 3\u001b[0m\n\u001b[0;32m      1\u001b[0m a\u001b[38;5;241m=\u001b[39m{\u001b[38;5;124m'\u001b[39m\u001b[38;5;124mname\u001b[39m\u001b[38;5;124m'\u001b[39m: \u001b[38;5;124m'\u001b[39m\u001b[38;5;124mAlice\u001b[39m\u001b[38;5;124m'\u001b[39m, \u001b[38;5;124m'\u001b[39m\u001b[38;5;124mage\u001b[39m\u001b[38;5;124m'\u001b[39m: \u001b[38;5;241m25\u001b[39m, \u001b[38;5;124m'\u001b[39m\u001b[38;5;124mcountry\u001b[39m\u001b[38;5;124m'\u001b[39m: \u001b[38;5;124m'\u001b[39m\u001b[38;5;124mpune\u001b[39m\u001b[38;5;124m'\u001b[39m, \u001b[38;5;124m'\u001b[39m\u001b[38;5;124mgender\u001b[39m\u001b[38;5;124m'\u001b[39m: \u001b[38;5;124m'\u001b[39m\u001b[38;5;124mMale\u001b[39m\u001b[38;5;124m'\u001b[39m, \u001b[38;5;124m'\u001b[39m\u001b[38;5;124mphone number\u001b[39m\u001b[38;5;124m'\u001b[39m: \u001b[38;5;241m5546546655555\u001b[39m, \u001b[38;5;124m'\u001b[39m\u001b[38;5;124memail id\u001b[39m\u001b[38;5;124m'\u001b[39m: \u001b[38;5;124m'\u001b[39m\u001b[38;5;124malice@gmail.com\u001b[39m\u001b[38;5;124m'\u001b[39m, \u001b[38;5;124m'\u001b[39m\u001b[38;5;124madhar mnumber\u001b[39m\u001b[38;5;124m'\u001b[39m: \u001b[38;5;241m986655555\u001b[39m}\n\u001b[0;32m      2\u001b[0m \u001b[38;5;28;01mdel\u001b[39;00m a\n\u001b[1;32m----> 3\u001b[0m \u001b[38;5;28mprint\u001b[39m(a)\n",
      "\u001b[1;31mNameError\u001b[0m: name 'a' is not defined"
     ]
    }
   ],
   "source": [
    "a={'name': 'Alice', 'age': 25, 'country': 'pune', 'gender': 'Male', 'phone number': 5546546655555, 'email id': 'alice@gmail.com', 'adhar mnumber': 986655555}\n",
    "del a\n",
    "print(a)"
   ]
  },
  {
   "cell_type": "markdown",
   "id": "7f3bd37f-b694-4796-99dc-2a5f87c0a313",
   "metadata": {},
   "source": [
    "## clear method\n"
   ]
  },
  {
   "cell_type": "code",
   "execution_count": 108,
   "id": "3f23ee6c-05ae-44a6-a236-a16b1cfdea0e",
   "metadata": {},
   "outputs": [
    {
     "name": "stdout",
     "output_type": "stream",
     "text": [
      "{}\n"
     ]
    }
   ],
   "source": [
    "a={'name': 'Alice', 'age': 25, 'country': 'pune', 'gender': 'Male', 'phone number': 5546546655555, 'email id': 'alice@gmail.com', 'adhar mnumber': 986655555}\n",
    "a.clear()\n",
    "print(a)"
   ]
  },
  {
   "cell_type": "markdown",
   "id": "c6c5ab7b-f068-4ee4-95bf-d4f76fe611c2",
   "metadata": {
    "jp-MarkdownHeadingCollapsed": true
   },
   "source": [
    "#  Dictionary Part 5"
   ]
  },
  {
   "cell_type": "markdown",
   "id": "272e0218-c01d-475e-a3bb-1ad0653b8ed5",
   "metadata": {},
   "source": [
    "## Practise Question of dictionary"
   ]
  },
  {
   "cell_type": "raw",
   "id": "5b46bc10-c6dc-44b6-a79d-eed98efae99f",
   "metadata": {},
   "source": [
    "# write a python script to concatenate the following dictionaries to crete a new one."
   ]
  },
  {
   "cell_type": "code",
   "execution_count": 114,
   "id": "24335707-be75-477d-9f80-ed45d465d769",
   "metadata": {},
   "outputs": [
    {
     "name": "stdout",
     "output_type": "stream",
     "text": [
      "{1: 2, 2: 4, 3: 5, 4: 9, 5: 6, 6: 7}\n"
     ]
    }
   ],
   "source": [
    "dict1={1:2,2:4}\n",
    "dict2={3:5,4:9}\n",
    "dict3={5:6,6:7}\n",
    "dict4={}\n",
    "for d in(dict1,dict2,dict3):dict4.update(d)\n",
    "print(dict4)"
   ]
  },
  {
   "cell_type": "raw",
   "id": "47882fa3-c0b1-480d-ac85-f1d81f8deb08",
   "metadata": {},
   "source": [
    "# print a dictionary wher the keys are numbers between 1 and 15 and the values are square of keys"
   ]
  },
  {
   "cell_type": "code",
   "execution_count": 117,
   "id": "dda89989-1bd0-42ce-bc23-c59d69fb1a02",
   "metadata": {},
   "outputs": [
    {
     "name": "stdout",
     "output_type": "stream",
     "text": [
      "{1: 1, 2: 4, 3: 9, 4: 16, 5: 25, 6: 36, 7: 49, 8: 64, 9: 81, 10: 100, 11: 121, 12: 144, 13: 169, 14: 196, 15: 225}\n"
     ]
    }
   ],
   "source": [
    "a={}\n",
    "for i in range(1,16):\n",
    "    a[i]=i*i\n",
    "\n",
    "print(a)"
   ]
  },
  {
   "cell_type": "raw",
   "id": "67f468c6-28c4-4af1-b78c-161052e504f3",
   "metadata": {},
   "source": [
    "# check whether a given key already exists in a dictinary"
   ]
  },
  {
   "cell_type": "code",
   "execution_count": 120,
   "id": "2e90065a-7cd4-43c3-94e3-232f2e321fb6",
   "metadata": {},
   "outputs": [
    {
     "name": "stdout",
     "output_type": "stream",
     "text": [
      "not present\n",
      "present\n"
     ]
    }
   ],
   "source": [
    "d={1:10,2:20,3:30,4:40}\n",
    "def is_Present(x):\n",
    "    if x in d:\n",
    "        print(\"present\")\n",
    "    else:\n",
    "        print(\"not present\")\n",
    "\n",
    "is_Present(10)\n",
    "is_Present(1)"
   ]
  },
  {
   "cell_type": "markdown",
   "id": "0b4f791c-a3a4-4f45-bbca-3655d95c16cc",
   "metadata": {
    "jp-MarkdownHeadingCollapsed": true
   },
   "source": [
    "#  OOPS"
   ]
  },
  {
   "cell_type": "markdown",
   "id": "c6634983-84f4-4460-a2a6-69e5ca874c55",
   "metadata": {},
   "source": [
    "## Procedural Programming"
   ]
  },
  {
   "cell_type": "code",
   "execution_count": 1,
   "id": "0b63d348-9ac4-4f36-b789-85e110884e2f",
   "metadata": {},
   "outputs": [
    {
     "name": "stdout",
     "output_type": "stream",
     "text": [
      "30\n",
      "-10\n"
     ]
    }
   ],
   "source": [
    "num1=10\n",
    "num2=20\n",
    "\n",
    "sum=num1+num2\n",
    "diff=num1-num2\n",
    "print(sum)\n",
    "print(diff)"
   ]
  },
  {
   "cell_type": "markdown",
   "id": "b3bc1c4c-00d3-4561-a519-96de45d8e2e9",
   "metadata": {},
   "source": [
    "## Functional Programming"
   ]
  },
  {
   "cell_type": "code",
   "execution_count": 4,
   "id": "c695d09b-3fbe-488e-afec-792fad2360a3",
   "metadata": {},
   "outputs": [
    {
     "name": "stdout",
     "output_type": "stream",
     "text": [
      "4\n",
      "-2\n"
     ]
    }
   ],
   "source": [
    "def sum2(a,b):\n",
    "    print(a+b)\n",
    "\n",
    "def diff2(a,b):\n",
    "    print(a-b)\n",
    "\n",
    "sum2(1,3)\n",
    "diff2(1,3)"
   ]
  },
  {
   "cell_type": "markdown",
   "id": "b584b413-30d5-452c-af9f-13d477ba58f2",
   "metadata": {
    "jp-MarkdownHeadingCollapsed": true
   },
   "source": [
    "## Object Oriented Programming"
   ]
  },
  {
   "cell_type": "code",
   "execution_count": 14,
   "id": "8808ef41-ee14-49a7-a89f-224c99863cfa",
   "metadata": {},
   "outputs": [],
   "source": [
    "class Calculator: \n",
    "    def add(self,a,b):\n",
    "        print(a+b)\n",
    "\n",
    "    def diff(self,a,b):\n",
    "        print(a-b)\n",
    "\n",
    "    def mul(self,a,b):\n",
    "        print(a*b)\n",
    "        "
   ]
  },
  {
   "cell_type": "code",
   "execution_count": 21,
   "id": "52028660-e78e-41a4-ba09-14089da2ca1f",
   "metadata": {},
   "outputs": [],
   "source": [
    "calc = Calculator() # object"
   ]
  },
  {
   "cell_type": "code",
   "execution_count": 20,
   "id": "23bc6877-ea45-4091-8ab8-a5d3cbd388fd",
   "metadata": {},
   "outputs": [
    {
     "name": "stdout",
     "output_type": "stream",
     "text": [
      "90\n",
      "-40\n",
      "6300\n"
     ]
    }
   ],
   "source": [
    "\n",
    "calc.add(50,40)\n",
    "calc.diff(50,90)\n",
    "calc.mul(90,70)"
   ]
  },
  {
   "cell_type": "markdown",
   "id": "8fbe3dc9-f72b-407e-9744-245205ac2393",
   "metadata": {},
   "source": [
    "## Class and Object example"
   ]
  },
  {
   "cell_type": "code",
   "execution_count": 23,
   "id": "305fa8ea-2067-4986-867f-b5b180aedc79",
   "metadata": {},
   "outputs": [
    {
     "name": "stdout",
     "output_type": "stream",
     "text": [
      " Red Toyota car is starting .\n",
      " Blue honda car is starting .\n"
     ]
    }
   ],
   "source": [
    "class car:\n",
    "    def start(self):\n",
    "        print(f\" {self.colour} {self.model} car is starting .\")\n",
    "\n",
    "# object creation aur attributes set karna\n",
    "car1=car()\n",
    "car1.model=\"Toyota\"\n",
    "car1.colour=\"Red\"\n",
    "\n",
    "car2= car()\n",
    "car2.model=\"honda\"\n",
    "car2.colour=\"Blue\"\n",
    "\n",
    "# Method call karna\n",
    "\n",
    "car1.start()\n",
    "car2.start()"
   ]
  },
  {
   "cell_type": "markdown",
   "id": "96f8ae5a-6cbc-4926-a3e3-4b0ce04d045a",
   "metadata": {},
   "source": [
    "## init function // constructor"
   ]
  },
  {
   "cell_type": "code",
   "execution_count": 35,
   "id": "adef51d5-7652-40d3-9564-9abc638eb7ac",
   "metadata": {},
   "outputs": [],
   "source": [
    "class car:\n",
    "    def __init__(self,model,colour):\n",
    "        self.model=model\n",
    "        self.colour=colour\n",
    "\n",
    "    \n",
    "    def start(self):\n",
    "        print(f\" {self.colour} {self.model} car is starting .\")\n",
    "\n"
   ]
  },
  {
   "cell_type": "code",
   "execution_count": 36,
   "id": "5de4b034-d877-4759-b6c3-87b3529156d5",
   "metadata": {},
   "outputs": [],
   "source": [
    "car1=car(\"toyota\",\"black\")\n"
   ]
  },
  {
   "cell_type": "code",
   "execution_count": 37,
   "id": "6593499c-46cd-4660-8bc0-8bdc55cf709b",
   "metadata": {},
   "outputs": [
    {
     "name": "stdout",
     "output_type": "stream",
     "text": [
      " black toyota car is starting .\n"
     ]
    }
   ],
   "source": [
    "car1.start()"
   ]
  },
  {
   "cell_type": "markdown",
   "id": "b8f1cae7-4254-4964-a11c-d78a7675a4c1",
   "metadata": {},
   "source": [
    "## Polymorphism // one function  but behaves diff "
   ]
  },
  {
   "cell_type": "markdown",
   "id": "3f06f379-f3c9-429e-8f0d-084ed3590549",
   "metadata": {
    "jp-MarkdownHeadingCollapsed": true
   },
   "source": [
    "### Types of polymorhism"
   ]
  },
  {
   "cell_type": "raw",
   "id": "3fa60f83-a2ff-4c07-b969-c78ea4717ed7",
   "metadata": {},
   "source": [
    "# Run Time polymorphism - method over riding"
   ]
  },
  {
   "cell_type": "raw",
   "id": "8b0bf8e3-526a-4d06-8068-115ffefb8175",
   "metadata": {},
   "source": [
    "# method ovewrrider tab hota hai jab child class aona parent class ko redefine karta hai \n",
    "yah ensure karta hai ki child class ka method call ho jab object child class ka ho //function overloading"
   ]
  },
  {
   "cell_type": "code",
   "execution_count": 48,
   "id": "48d5cc58-ba41-476c-956b-bdff7cccc867",
   "metadata": {},
   "outputs": [],
   "source": [
    "class Animal:\n",
    "    def make_sound(self):\n",
    "        print(\"animal makle sound\")\n",
    "#child class\n",
    "class Dog(Animal):\n",
    "    def make_sound(self):\n",
    "        print(\"dog bark\")\n",
    "\n",
    "class cat(Animal):\n",
    "    def make_sound(self):\n",
    "        print(\"cat meows\")\n",
    "\n",
    "\n",
    "    "
   ]
  },
  {
   "cell_type": "code",
   "execution_count": 39,
   "id": "c6b9d4ba-8ebc-4c3e-9916-43cc23cb4b44",
   "metadata": {},
   "outputs": [],
   "source": [
    "animal=Animal()\n",
    "dog=Dog()\n",
    "cat=cat()\n"
   ]
  },
  {
   "cell_type": "code",
   "execution_count": 40,
   "id": "f2ceb328-b60c-417b-8874-1dfee42eaa80",
   "metadata": {},
   "outputs": [
    {
     "name": "stdout",
     "output_type": "stream",
     "text": [
      "animal makle sound\n",
      "dog bark\n",
      "cat meows\n"
     ]
    }
   ],
   "source": [
    "animal.make_sound()\n",
    "dog.make_sound()\n",
    "cat.make_sound()"
   ]
  },
  {
   "cell_type": "raw",
   "id": "7f2cc317-727a-4850-ad2e-61c4f63cac95",
   "metadata": {},
   "source": [
    "# compile time polymorphism- method overloading"
   ]
  },
  {
   "cell_type": "raw",
   "id": "524dcf3f-30b4-451a-851f-37e387b31f40",
   "metadata": {},
   "source": [
    "python me method overloading directly support nahi karta\n",
    "lakin hum default arguments ka use karka \n",
    "ek method ko multiple tarike se use kar sakta hain."
   ]
  },
  {
   "cell_type": "code",
   "execution_count": 41,
   "id": "4782b2b9-c723-458a-891b-0e36044138b7",
   "metadata": {},
   "outputs": [],
   "source": [
    "class Calculator:\n",
    "    def add(self,a,b,c=0):\n",
    "        print(a+b+c)"
   ]
  },
  {
   "cell_type": "code",
   "execution_count": 43,
   "id": "cbef3187-cb26-48a7-9e83-5dd3657443ab",
   "metadata": {},
   "outputs": [],
   "source": [
    "calc=Calculator()"
   ]
  },
  {
   "cell_type": "code",
   "execution_count": 44,
   "id": "1ea3e8de-f86f-4c68-808d-7ebbf103665f",
   "metadata": {},
   "outputs": [
    {
     "name": "stdout",
     "output_type": "stream",
     "text": [
      "5\n"
     ]
    }
   ],
   "source": [
    "calc.add(2,3)"
   ]
  },
  {
   "cell_type": "code",
   "execution_count": 45,
   "id": "e674a40c-406f-4705-a914-6604dadf165d",
   "metadata": {},
   "outputs": [
    {
     "name": "stdout",
     "output_type": "stream",
     "text": [
      "20\n"
     ]
    }
   ],
   "source": [
    "calc.add(5,6,9)"
   ]
  },
  {
   "cell_type": "markdown",
   "id": "e5446a03-9c84-41b0-af15-00b8e4212450",
   "metadata": {
    "jp-MarkdownHeadingCollapsed": true
   },
   "source": [
    "## polymorphism in real world Senario"
   ]
  },
  {
   "cell_type": "code",
   "execution_count": 59,
   "id": "7424ee2c-4a0c-4822-8d5f-ae720303afa6",
   "metadata": {},
   "outputs": [],
   "source": [
    "class media_player:\n",
    "    def play(self):\n",
    "        print(\"Playing media\")\n",
    "\n",
    "class audioPlayer(media_player):\n",
    "    def play(self):\n",
    "        print(\"playing audio file\")\n",
    "\n",
    "class videoPlayer(media_player):\n",
    "    def play(Self):\n",
    "            print(\"playing video files\")"
   ]
  },
  {
   "cell_type": "code",
   "execution_count": 60,
   "id": "3923463a-d09a-434f-a8c4-61b3d7b625ef",
   "metadata": {},
   "outputs": [],
   "source": [
    "media=media_player()\n",
    "audio=audioPlayer()\n",
    "video=videoPlayer()"
   ]
  },
  {
   "cell_type": "code",
   "execution_count": 61,
   "id": "b64d1128-d9d2-4483-94db-00ffdd5df760",
   "metadata": {},
   "outputs": [
    {
     "name": "stdout",
     "output_type": "stream",
     "text": [
      "Playing media\n",
      "playing audio file\n",
      "playing video files\n"
     ]
    }
   ],
   "source": [
    "media.play()\n",
    "audio.play()\n",
    "video.play()"
   ]
  },
  {
   "cell_type": "code",
   "execution_count": null,
   "id": "72d61ff0-6055-47fa-880f-e9cabc077da5",
   "metadata": {},
   "outputs": [],
   "source": []
  },
  {
   "cell_type": "markdown",
   "id": "893e0ea5-f7de-4778-a20b-ae9b4dea41a8",
   "metadata": {},
   "source": [
    "## Single inheretance"
   ]
  },
  {
   "cell_type": "markdown",
   "id": "e5dc4464-580a-4e7d-87c0-993cc4025b82",
   "metadata": {},
   "source": [
    "## Multiple Inheretance"
   ]
  },
  {
   "cell_type": "markdown",
   "id": "847a3ace-28e4-4d95-9191-157e29ffd1b8",
   "metadata": {},
   "source": [
    "## Multi level Inheretance"
   ]
  },
  {
   "cell_type": "markdown",
   "id": "813976aa-ef27-4048-b446-0649b9215929",
   "metadata": {},
   "source": [
    "## Hybrid Inherentance"
   ]
  },
  {
   "cell_type": "markdown",
   "id": "44ca6158-bee6-457c-8fd1-1457aba5597e",
   "metadata": {},
   "source": [
    "## Hierarichal inheritance"
   ]
  },
  {
   "cell_type": "code",
   "execution_count": null,
   "id": "28500d0c-2fe5-424b-875d-302a4706d7f1",
   "metadata": {},
   "outputs": [],
   "source": []
  },
  {
   "cell_type": "code",
   "execution_count": null,
   "id": "063ef3b6-c9ce-4e6b-b8ec-2e09f2e9f50d",
   "metadata": {},
   "outputs": [],
   "source": []
  },
  {
   "cell_type": "code",
   "execution_count": null,
   "id": "44eaa9f7-61a1-4629-a6d4-d7ea2d88dccb",
   "metadata": {},
   "outputs": [],
   "source": []
  },
  {
   "cell_type": "code",
   "execution_count": null,
   "id": "b3e735ea-4b96-4366-a28d-feaab6b6512e",
   "metadata": {},
   "outputs": [],
   "source": []
  },
  {
   "cell_type": "code",
   "execution_count": null,
   "id": "5b2fae6e-8ba8-4704-88c8-090c2d137dab",
   "metadata": {},
   "outputs": [],
   "source": []
  },
  {
   "cell_type": "code",
   "execution_count": null,
   "id": "4c56dae5-2904-40c2-8759-18beeea4c364",
   "metadata": {},
   "outputs": [],
   "source": []
  }
 ],
 "metadata": {
  "kernelspec": {
   "display_name": "Python 3 (ipykernel)",
   "language": "python",
   "name": "python3"
  },
  "language_info": {
   "codemirror_mode": {
    "name": "ipython",
    "version": 3
   },
   "file_extension": ".py",
   "mimetype": "text/x-python",
   "name": "python",
   "nbconvert_exporter": "python",
   "pygments_lexer": "ipython3",
   "version": "3.12.7"
  }
 },
 "nbformat": 4,
 "nbformat_minor": 5
}
